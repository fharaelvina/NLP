{
 "cells": [
  {
   "cell_type": "markdown",
   "id": "43662ecb",
   "metadata": {},
   "source": [
    "# 1. Marwa Alifa Azkiya (202010370311481)\n",
    "# 2. Fhara Elvina Pingky Nadya (202010370311483)"
   ]
  },
  {
   "cell_type": "code",
   "execution_count": 1,
   "id": "b9ea4c39",
   "metadata": {},
   "outputs": [],
   "source": [
    "import pandas as pd\n",
    "import numpy as np\n",
    "import fasttext\n",
    "from sklearn.model_selection import train_test_split\n",
    "from sklearn.metrics import accuracy_score\n",
    "from sklearn.metrics import classification_report"
   ]
  },
  {
   "cell_type": "markdown",
   "id": "72852a03",
   "metadata": {},
   "source": [
    "## Import Libraries\n",
    "Ini adalah library yang dibutuhkan dalam pengolahan data."
   ]
  },
  {
   "cell_type": "code",
   "execution_count": 2,
   "id": "741716ec",
   "metadata": {},
   "outputs": [
    {
     "data": {
      "text/html": [
       "<div>\n",
       "<style scoped>\n",
       "    .dataframe tbody tr th:only-of-type {\n",
       "        vertical-align: middle;\n",
       "    }\n",
       "\n",
       "    .dataframe tbody tr th {\n",
       "        vertical-align: top;\n",
       "    }\n",
       "\n",
       "    .dataframe thead th {\n",
       "        text-align: right;\n",
       "    }\n",
       "</style>\n",
       "<table border=\"1\" class=\"dataframe\">\n",
       "  <thead>\n",
       "    <tr style=\"text-align: right;\">\n",
       "      <th></th>\n",
       "      <th>Unnamed: 0</th>\n",
       "      <th>text</th>\n",
       "      <th>label</th>\n",
       "      <th>dimension1</th>\n",
       "      <th>dimension2</th>\n",
       "      <th>dimension3</th>\n",
       "      <th>dimension4</th>\n",
       "    </tr>\n",
       "  </thead>\n",
       "  <tbody>\n",
       "    <tr>\n",
       "      <th>0</th>\n",
       "      <td>0</td>\n",
       "      <td>@Pericles216 @HierBeforeTheAC @Sachinettiyil T...</td>\n",
       "      <td>intj</td>\n",
       "      <td>i</td>\n",
       "      <td>n</td>\n",
       "      <td>t</td>\n",
       "      <td>j</td>\n",
       "    </tr>\n",
       "    <tr>\n",
       "      <th>1</th>\n",
       "      <td>1</td>\n",
       "      <td>@Hispanthicckk Being you makes you look cute||...</td>\n",
       "      <td>intj</td>\n",
       "      <td>i</td>\n",
       "      <td>n</td>\n",
       "      <td>t</td>\n",
       "      <td>j</td>\n",
       "    </tr>\n",
       "    <tr>\n",
       "      <th>2</th>\n",
       "      <td>2</td>\n",
       "      <td>@Alshymi Les balles sont réelles et sont tirée...</td>\n",
       "      <td>intj</td>\n",
       "      <td>i</td>\n",
       "      <td>n</td>\n",
       "      <td>t</td>\n",
       "      <td>j</td>\n",
       "    </tr>\n",
       "    <tr>\n",
       "      <th>3</th>\n",
       "      <td>3</td>\n",
       "      <td>I'm like entp but idiotic|||Hey boy, do you wa...</td>\n",
       "      <td>intj</td>\n",
       "      <td>i</td>\n",
       "      <td>n</td>\n",
       "      <td>t</td>\n",
       "      <td>j</td>\n",
       "    </tr>\n",
       "    <tr>\n",
       "      <th>4</th>\n",
       "      <td>4</td>\n",
       "      <td>@kaeshurr1 Give it to @ZargarShanif ... He has...</td>\n",
       "      <td>intj</td>\n",
       "      <td>i</td>\n",
       "      <td>n</td>\n",
       "      <td>t</td>\n",
       "      <td>j</td>\n",
       "    </tr>\n",
       "    <tr>\n",
       "      <th>...</th>\n",
       "      <td>...</td>\n",
       "      <td>...</td>\n",
       "      <td>...</td>\n",
       "      <td>...</td>\n",
       "      <td>...</td>\n",
       "      <td>...</td>\n",
       "      <td>...</td>\n",
       "    </tr>\n",
       "    <tr>\n",
       "      <th>7806</th>\n",
       "      <td>7806</td>\n",
       "      <td>@sobsjjun God,,pls take care 😕|||@sobsjjun Hir...</td>\n",
       "      <td>intp</td>\n",
       "      <td>i</td>\n",
       "      <td>n</td>\n",
       "      <td>t</td>\n",
       "      <td>p</td>\n",
       "    </tr>\n",
       "    <tr>\n",
       "      <th>7807</th>\n",
       "      <td>7807</td>\n",
       "      <td>@Ignis_02 wow last time i got intp https://t.c...</td>\n",
       "      <td>intp</td>\n",
       "      <td>i</td>\n",
       "      <td>n</td>\n",
       "      <td>t</td>\n",
       "      <td>p</td>\n",
       "    </tr>\n",
       "    <tr>\n",
       "      <th>7808</th>\n",
       "      <td>7808</td>\n",
       "      <td>@akupilled A 100%|||@akupilled That SOMEONE wi...</td>\n",
       "      <td>entp</td>\n",
       "      <td>e</td>\n",
       "      <td>n</td>\n",
       "      <td>t</td>\n",
       "      <td>p</td>\n",
       "    </tr>\n",
       "    <tr>\n",
       "      <th>7809</th>\n",
       "      <td>7809</td>\n",
       "      <td>If you’re #INTJ this one is for you | What is ...</td>\n",
       "      <td>infj</td>\n",
       "      <td>i</td>\n",
       "      <td>n</td>\n",
       "      <td>f</td>\n",
       "      <td>j</td>\n",
       "    </tr>\n",
       "    <tr>\n",
       "      <th>7810</th>\n",
       "      <td>7810</td>\n",
       "      <td>@harry__lambert @gucci hey can you dm me a pic...</td>\n",
       "      <td>istp</td>\n",
       "      <td>i</td>\n",
       "      <td>s</td>\n",
       "      <td>t</td>\n",
       "      <td>p</td>\n",
       "    </tr>\n",
       "  </tbody>\n",
       "</table>\n",
       "<p>7811 rows × 7 columns</p>\n",
       "</div>"
      ],
      "text/plain": [
       "      Unnamed: 0                                               text label  \\\n",
       "0              0  @Pericles216 @HierBeforeTheAC @Sachinettiyil T...  intj   \n",
       "1              1  @Hispanthicckk Being you makes you look cute||...  intj   \n",
       "2              2  @Alshymi Les balles sont réelles et sont tirée...  intj   \n",
       "3              3  I'm like entp but idiotic|||Hey boy, do you wa...  intj   \n",
       "4              4  @kaeshurr1 Give it to @ZargarShanif ... He has...  intj   \n",
       "...          ...                                                ...   ...   \n",
       "7806        7806  @sobsjjun God,,pls take care 😕|||@sobsjjun Hir...  intp   \n",
       "7807        7807  @Ignis_02 wow last time i got intp https://t.c...  intp   \n",
       "7808        7808  @akupilled A 100%|||@akupilled That SOMEONE wi...  entp   \n",
       "7809        7809  If you’re #INTJ this one is for you | What is ...  infj   \n",
       "7810        7810  @harry__lambert @gucci hey can you dm me a pic...  istp   \n",
       "\n",
       "     dimension1 dimension2 dimension3 dimension4  \n",
       "0             i          n          t          j  \n",
       "1             i          n          t          j  \n",
       "2             i          n          t          j  \n",
       "3             i          n          t          j  \n",
       "4             i          n          t          j  \n",
       "...         ...        ...        ...        ...  \n",
       "7806          i          n          t          p  \n",
       "7807          i          n          t          p  \n",
       "7808          e          n          t          p  \n",
       "7809          i          n          f          j  \n",
       "7810          i          s          t          p  \n",
       "\n",
       "[7811 rows x 7 columns]"
      ]
     },
     "execution_count": 2,
     "metadata": {},
     "output_type": "execute_result"
    }
   ],
   "source": [
    "# Load the dataset\n",
    "data = pd.read_csv('twitter_MBTI.csv')\n",
    "split = data['label'].apply(lambda x: pd.Series(list(x)))\n",
    "split.columns= [f'dimension{i+1}' for i in range(split.shape[1])]\n",
    "\n",
    "data = pd.concat([data, split], axis=1)\n",
    "\n",
    "data"
   ]
  },
  {
   "cell_type": "markdown",
   "id": "3f44ec42",
   "metadata": {},
   "source": [
    "## Load and Split Label in Dataset\n",
    "membagi kolom label yang berisi MBTI secara keseluruhan dibagi menjadi 4 dimensi sesuai dengan kategorinya, hal ini dilakukan untuk mencegah kebingungan machine learning saat melakukan klasifikasi"
   ]
  },
  {
   "cell_type": "code",
   "execution_count": 3,
   "id": "eaf8096b",
   "metadata": {},
   "outputs": [],
   "source": [
    "# Split the dataset into training and testing sets\n",
    "train_data, test_data = train_test_split(data, test_size=0.2, random_state=42)"
   ]
  },
  {
   "cell_type": "markdown",
   "id": "dfea1e1f",
   "metadata": {},
   "source": [
    "## Splitting Dataset\n",
    "Pada proses ini data akan dibagi menjadi 2 yaitu :\n",
    "\n",
    "data train -> data untuk pembelajaran data test -> data untuk pengujian disini kami menggunakan test_size 0.2 dan random_state 42 yang berarti data akan dibagi menjadi 20% data test dan 80% data train serta diacak"
   ]
  },
  {
   "cell_type": "code",
   "execution_count": 4,
   "id": "377699fe",
   "metadata": {},
   "outputs": [],
   "source": [
    "train_data_fasttext = train_data.apply(lambda x: '__label__' + str(x['dimension1']) + ' ' + x['text'], axis=1)\n",
    "train_data_fasttext.to_csv('train_data.txt', index=False, header=False)\n",
    "\n",
    "train_data_fasttext2 = train_data.apply(lambda x: '__label__' + str(x['dimension2']) + ' ' + x['text'], axis=1)\n",
    "train_data_fasttext2.to_csv('train_data2.txt', index=False, header=False)\n",
    "\n",
    "train_data_fasttext3 = train_data.apply(lambda x: '__label__' + str(x['dimension3']) + ' ' + x['text'], axis=1)\n",
    "train_data_fasttext3.to_csv('train_data3.txt', index=False, header=False)\n",
    "\n",
    "train_data_fasttext4 = train_data.apply(lambda x: '__label__' + str(x['dimension4']) + ' ' + x['text'], axis=1)\n",
    "train_data_fasttext4.to_csv('train_data4.txt', index=False, header=False)\n"
   ]
  },
  {
   "cell_type": "markdown",
   "id": "661af2ad",
   "metadata": {},
   "source": [
    "# Convert the training data to FastText format\n",
    "Setelah membagi data menjadi testing dan training kita mengubah data training ke dalam format fasttext dan menyimpannya ke dalan .txt"
   ]
  },
  {
   "cell_type": "code",
   "execution_count": 5,
   "id": "cee20334",
   "metadata": {},
   "outputs": [],
   "source": [
    "model = fasttext.train_supervised('train_data.txt', epoch=10)\n",
    "model2 = fasttext.train_supervised('train_data2.txt', epoch=10)\n",
    "model3 = fasttext.train_supervised('train_data3.txt', epoch=10)\n",
    "model4 = fasttext.train_supervised('train_data4.txt', epoch=10)"
   ]
  },
  {
   "cell_type": "markdown",
   "id": "00d0fbf1",
   "metadata": {},
   "source": [
    "# Train the FastText model"
   ]
  },
  {
   "cell_type": "code",
   "execution_count": 6,
   "id": "0f87a37a",
   "metadata": {},
   "outputs": [
    {
     "name": "stdout",
     "output_type": "stream",
     "text": [
      "              precision    recall  f1-score   support\n",
      "\n",
      "           e       0.00      0.00      0.00       522\n",
      "           i       0.66      1.00      0.80      1041\n",
      "\n",
      "    accuracy                           0.66      1563\n",
      "   macro avg       0.33      0.50      0.40      1563\n",
      "weighted avg       0.44      0.66      0.53      1563\n",
      "\n"
     ]
    }
   ],
   "source": [
    "# Convert the testing data to FastText format and remove '\\n'\n",
    "test_data_fasttext = [line.replace('\\n', '') for line in test_data['text'].tolist()]\n",
    "\n",
    "# Predict the labels for each line of the testing data\n",
    "predictions = [model.predict(line)[0][0] for line in test_data_fasttext]\n",
    "\n",
    "# Extract the predicted labels\n",
    "predicted_labels = [label.replace('__label__', '') for label in predictions]\n",
    "\n",
    "# Extract the true labels\n",
    "true_labels = test_data['dimension1'].tolist()\n",
    "\n",
    "print(classification_report(true_labels, predicted_labels))\n"
   ]
  },
  {
   "cell_type": "markdown",
   "id": "e7b3163e",
   "metadata": {},
   "source": [
    "# Evaluate The Model Dimension1\n",
    "Pada klasiikasi kita menilai kinerja model menggunakan matrik evaluasi seperti accuracy, precision, recall, dan F1-Score. Sebelum itu kita harus menyesuaikan terlebih dahulu model dan true_labelsnya sesuai dengan target kita."
   ]
  },
  {
   "cell_type": "code",
   "execution_count": 7,
   "id": "f41d4c5f",
   "metadata": {},
   "outputs": [
    {
     "name": "stdout",
     "output_type": "stream",
     "text": [
      "              precision    recall  f1-score   support\n",
      "\n",
      "           n       0.78      1.00      0.87      1212\n",
      "           s       0.00      0.00      0.00       351\n",
      "\n",
      "    accuracy                           0.77      1563\n",
      "   macro avg       0.39      0.50      0.44      1563\n",
      "weighted avg       0.60      0.77      0.68      1563\n",
      "\n"
     ]
    }
   ],
   "source": [
    "# Predict the labels for each line of the testing data\n",
    "predictions = [model2.predict(line)[0][0] for line in test_data_fasttext]\n",
    "\n",
    "# Extract the predicted labels\n",
    "predicted_labels = [label.replace('__label__', '') for label in predictions]\n",
    "\n",
    "# Extract the true labels\n",
    "true_labels = test_data['dimension2'].tolist()\n",
    "\n",
    "print(classification_report(true_labels, predicted_labels))\n"
   ]
  },
  {
   "cell_type": "markdown",
   "id": "5d49187f",
   "metadata": {},
   "source": [
    "# Evaluate The Model Dimension2"
   ]
  },
  {
   "cell_type": "code",
   "execution_count": 8,
   "id": "2e0dd28e",
   "metadata": {},
   "outputs": [
    {
     "name": "stdout",
     "output_type": "stream",
     "text": [
      "              precision    recall  f1-score   support\n",
      "\n",
      "           f       0.59      1.00      0.74       928\n",
      "           t       0.60      0.00      0.01       635\n",
      "\n",
      "    accuracy                           0.59      1563\n",
      "   macro avg       0.60      0.50      0.38      1563\n",
      "weighted avg       0.60      0.59      0.45      1563\n",
      "\n"
     ]
    }
   ],
   "source": [
    "# Predict the labels for each line of the testing data\n",
    "predictions = [model3.predict(line)[0][0] for line in test_data_fasttext]\n",
    "\n",
    "# Extract the predicted labels\n",
    "predicted_labels = [label.replace('__label__', '') for label in predictions]\n",
    "\n",
    "# Extract the true labels\n",
    "true_labels = test_data['dimension3'].tolist()\n",
    "\n",
    "print(classification_report(true_labels, predicted_labels))"
   ]
  },
  {
   "cell_type": "markdown",
   "id": "86dda56d",
   "metadata": {},
   "source": [
    "# Evaluate The Model Dimension3"
   ]
  },
  {
   "cell_type": "code",
   "execution_count": 9,
   "id": "ece8dd98",
   "metadata": {},
   "outputs": [
    {
     "name": "stdout",
     "output_type": "stream",
     "text": [
      "              precision    recall  f1-score   support\n",
      "\n",
      "           j       0.50      0.00      0.01       691\n",
      "           p       0.56      1.00      0.72       872\n",
      "\n",
      "    accuracy                           0.56      1563\n",
      "   macro avg       0.53      0.50      0.36      1563\n",
      "weighted avg       0.53      0.56      0.40      1563\n",
      "\n"
     ]
    }
   ],
   "source": [
    "# Predict the labels for each line of the testing data\n",
    "predictions = [model4.predict(line)[0][0] for line in test_data_fasttext]\n",
    "\n",
    "# Extract the predicted labels\n",
    "predicted_labels = [label.replace('__label__', '') for label in predictions]\n",
    "\n",
    "# Extract the true labels\n",
    "true_labels = test_data['dimension4'].tolist()\n",
    "\n",
    "print(classification_report(true_labels, predicted_labels))"
   ]
  },
  {
   "cell_type": "markdown",
   "id": "715db606",
   "metadata": {},
   "source": [
    "# Evaluate The Model Dimension4"
   ]
  },
  {
   "cell_type": "code",
   "execution_count": null,
   "id": "f3b14542",
   "metadata": {},
   "outputs": [],
   "source": []
  }
 ],
 "metadata": {
  "kernelspec": {
   "display_name": "Python 3 (ipykernel)",
   "language": "python",
   "name": "python3"
  },
  "language_info": {
   "codemirror_mode": {
    "name": "ipython",
    "version": 3
   },
   "file_extension": ".py",
   "mimetype": "text/x-python",
   "name": "python",
   "nbconvert_exporter": "python",
   "pygments_lexer": "ipython3",
   "version": "3.11.4"
  }
 },
 "nbformat": 4,
 "nbformat_minor": 5
}
