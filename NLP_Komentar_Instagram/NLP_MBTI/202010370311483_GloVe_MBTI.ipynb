{
 "cells": [
  {
   "cell_type": "markdown",
   "id": "80504b7b",
   "metadata": {},
   "source": [
    "# 1. Marwa Alifa Azkiya (202010370311481)\n",
    "# 2. Fhara Elvina Pingky Nadya (202010370311483)"
   ]
  },
  {
   "cell_type": "code",
   "execution_count": 1,
   "id": "b62c1679",
   "metadata": {},
   "outputs": [],
   "source": [
    "import pandas as pd\n",
    "import numpy as np\n",
    "from sklearn.model_selection import train_test_split\n",
    "from sklearn.metrics import accuracy_score\n",
    "from sklearn.metrics import classification_report\n",
    "from sklearn.feature_extraction.text import CountVectorizer\n",
    "from sklearn.linear_model import LogisticRegression\n",
    "from sklearn.ensemble import RandomForestClassifier"
   ]
  },
  {
   "cell_type": "markdown",
   "id": "39e3fd8d",
   "metadata": {},
   "source": [
    "# Import Libraries\n",
    "Ini adalah library yang dibutuhkan dalam pengolahan data."
   ]
  },
  {
   "cell_type": "code",
   "execution_count": 2,
   "id": "8470cbe1",
   "metadata": {},
   "outputs": [],
   "source": [
    "# Load the dataset\n",
    "data=pd.read_csv( 'twitter_MBTI.csv' )\n",
    "split = data['label'].apply(lambda x: pd.Series(list(x)))\n",
    "split.columns= [f'dimension{i+1}' for i in range(split.shape[1])]\n",
    "\n",
    "data = pd.concat([data, split], axis=1)\n",
    "\n",
    "# Split the dataset into training and testing sets\n",
    "train_data, test_data = train_test_split(data, test_size=0.2, random_state=42)\n"
   ]
  },
  {
   "cell_type": "markdown",
   "id": "bba45b8e",
   "metadata": {},
   "source": [
    "## Load and Split Label in Dataset\n",
    "membagi kolom label yang berisi MBTI secara keseluruhan dibagi menjadi 4 dimensi sesuai dengan kategorinya, hal ini dilakukan untuk mencegah kebingungan machine learning saat melakukan klasifikasi"
   ]
  },
  {
   "cell_type": "code",
   "execution_count": 4,
   "id": "7a54b988",
   "metadata": {
    "scrolled": true
   },
   "outputs": [],
   "source": [
    "glove_embeddings = {}\n",
    "with open('/Users/user/OneDrive/Desktop/Jupyter/glove.6B.50d.txt', encoding='utf8') as f:\n",
    "    for line in f:\n",
    "        values = line.split()\n",
    "        word = values[0]\n",
    "        vector = np.asarray(values[1:], dtype='float32')\n",
    "        glove_embeddings[word] = vector"
   ]
  },
  {
   "cell_type": "markdown",
   "id": "9ac03a6e",
   "metadata": {},
   "source": [
    "# Load the GloVe word embeddings into a dictionary\n",
    "Sebelum pengaplikasian GloVe kami telah mendownload salah satu dictionary GloVe yaitu glove.6B.50d.txt. Jadi, untuk pengaplikasian dictionary tersebut path harus disesuaikan dengan penyimpanannya"
   ]
  },
  {
   "cell_type": "code",
   "execution_count": null,
   "id": "0d2c0237",
   "metadata": {},
   "outputs": [],
   "source": [
    "def document_vector(text):\n",
    "    vectors = [glove_embeddings[word] for word in text.split() if word in glove_embeddings]\n",
    "    if vectors:\n",
    "        return np.mean(vectors, axis=0)\n",
    "    else:\n",
    "        return np.zeros_like(next(iter(glove_embeddings.values())))\n",
    "\n",
    "train_vectors = np.vstack(train_data['text'].apply(document_vector))\n",
    "\n",
    "test_vectors = np.vstack(test_data['text'].apply(document_vector))\n"
   ]
  },
  {
   "cell_type": "markdown",
   "id": "3d4fb0f1",
   "metadata": {},
   "source": [
    "# Covert the testing and training data\n",
    "Data testing dan traing ikut dikonversikan ke GloVe juga"
   ]
  },
  {
   "cell_type": "code",
   "execution_count": null,
   "id": "0c3f2f81",
   "metadata": {},
   "outputs": [],
   "source": [
    "# Train a Random Forest model\n",
    "classifier = RandomForestClassifier()\n",
    "classifier.fit(train_vectors, train_data['dimension1'])\n",
    "\n",
    "# Predict the labels for the testing data\n",
    "predicted_labels = classifier.predict(test_vectors)\n",
    "\n",
    "# Extract the true labels\n",
    "true_labels = test_data['dimension1'].tolist()\n",
    "\n",
    "print(classification_report(true_labels, predicted_labels))\n"
   ]
  },
  {
   "cell_type": "markdown",
   "id": "715edb3d",
   "metadata": {},
   "source": [
    "# Evaluate The Model Dimension1\n",
    "Pada klasiikasi kita menilai kinerja model menggunakan matrik evaluasi seperti accuracy, precision, recall, dan F1-Score."
   ]
  },
  {
   "cell_type": "code",
   "execution_count": null,
   "id": "856744e8",
   "metadata": {},
   "outputs": [],
   "source": [
    "# Train a Random Forest model\n",
    "classifier = RandomForestClassifier()\n",
    "classifier.fit(train_vectors, train_data['dimension2'])\n",
    "\n",
    "# Predict the labels for the testing data\n",
    "predicted_labels = classifier.predict(test_vectors)\n",
    "\n",
    "# Extract the true labels\n",
    "true_labels = test_data['dimension2'].tolist()\n",
    "\n",
    "print(classification_report(true_labels, predicted_labels))\n"
   ]
  },
  {
   "cell_type": "markdown",
   "id": "3cd119e3",
   "metadata": {},
   "source": [
    "# Evaluate The Model Dimension2"
   ]
  },
  {
   "cell_type": "code",
   "execution_count": null,
   "id": "9cbffaed",
   "metadata": {},
   "outputs": [],
   "source": [
    "# Train a Random Forest model\n",
    "classifier = RandomForestClassifier()\n",
    "classifier.fit(train_vectors, train_data['dimension3'])\n",
    "\n",
    "# Predict the labels for the testing data\n",
    "predicted_labels = classifier.predict(test_vectors)\n",
    "\n",
    "# Extract the true labels\n",
    "true_labels = test_data['dimension3'].tolist()\n",
    "\n",
    "print(classification_report(true_labels, predicted_labels))\n"
   ]
  },
  {
   "cell_type": "markdown",
   "id": "b97ab07c",
   "metadata": {},
   "source": [
    "# Evaluate The Model Dimension3"
   ]
  },
  {
   "cell_type": "code",
   "execution_count": null,
   "id": "4fc57910",
   "metadata": {},
   "outputs": [],
   "source": [
    "# Train a Random Forest model\n",
    "classifier = RandomForestClassifier()\n",
    "classifier.fit(train_vectors, train_data['dimension4'])\n",
    "\n",
    "# Predict the labels for the testing data\n",
    "predicted_labels = classifier.predict(test_vectors)\n",
    "\n",
    "# Extract the true labels\n",
    "true_labels = test_data['dimension4'].tolist()\n",
    "\n",
    "print(classification_report(true_labels, predicted_labels))\n"
   ]
  },
  {
   "cell_type": "markdown",
   "id": "53d73596",
   "metadata": {},
   "source": [
    "# Evaluate The Model Dimension4"
   ]
  }
 ],
 "metadata": {
  "kernelspec": {
   "display_name": "Python 3 (ipykernel)",
   "language": "python",
   "name": "python3"
  },
  "language_info": {
   "codemirror_mode": {
    "name": "ipython",
    "version": 3
   },
   "file_extension": ".py",
   "mimetype": "text/x-python",
   "name": "python",
   "nbconvert_exporter": "python",
   "pygments_lexer": "ipython3",
   "version": "3.11.4"
  }
 },
 "nbformat": 4,
 "nbformat_minor": 5
}
