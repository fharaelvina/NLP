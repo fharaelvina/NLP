{
 "cells": [
  {
   "cell_type": "markdown",
   "id": "71ca6c0a",
   "metadata": {},
   "source": [
    "# 1. Marwa Alifa Azkiya (202010370311481)\n",
    "# 2. Fhara Elvina Pingky Nadya (202010370311483)"
   ]
  },
  {
   "cell_type": "code",
   "execution_count": 1,
   "id": "9dadb40f",
   "metadata": {},
   "outputs": [],
   "source": [
    "import pandas as pd\n",
    "import numpy as np\n",
    "import string\n",
    "from sklearn.pipeline import Pipeline\n",
    "import nltk\n",
    "from nltk.corpus import stopwords\n",
    "from nltk.stem.porter import PorterStemmer\n",
    "import matplotlib.pyplot as plt\n",
    "from sklearn.metrics import classification_report"
   ]
  },
  {
   "cell_type": "markdown",
   "id": "857a6fca",
   "metadata": {},
   "source": [
    "# Import Libraries\n",
    "Ini adalah library yang dibutuhkan dalam pengolahan data."
   ]
  },
  {
   "cell_type": "code",
   "execution_count": 2,
   "id": "71f1613b",
   "metadata": {},
   "outputs": [
    {
     "data": {
      "text/html": [
       "<div>\n",
       "<style scoped>\n",
       "    .dataframe tbody tr th:only-of-type {\n",
       "        vertical-align: middle;\n",
       "    }\n",
       "\n",
       "    .dataframe tbody tr th {\n",
       "        vertical-align: top;\n",
       "    }\n",
       "\n",
       "    .dataframe thead th {\n",
       "        text-align: right;\n",
       "    }\n",
       "</style>\n",
       "<table border=\"1\" class=\"dataframe\">\n",
       "  <thead>\n",
       "    <tr style=\"text-align: right;\">\n",
       "      <th></th>\n",
       "      <th>Unnamed: 0</th>\n",
       "      <th>text</th>\n",
       "      <th>label</th>\n",
       "    </tr>\n",
       "  </thead>\n",
       "  <tbody>\n",
       "    <tr>\n",
       "      <th>0</th>\n",
       "      <td>0</td>\n",
       "      <td>@Pericles216 @HierBeforeTheAC @Sachinettiyil T...</td>\n",
       "      <td>intj</td>\n",
       "    </tr>\n",
       "    <tr>\n",
       "      <th>1</th>\n",
       "      <td>1</td>\n",
       "      <td>@Hispanthicckk Being you makes you look cute||...</td>\n",
       "      <td>intj</td>\n",
       "    </tr>\n",
       "    <tr>\n",
       "      <th>2</th>\n",
       "      <td>2</td>\n",
       "      <td>@Alshymi Les balles sont réelles et sont tirée...</td>\n",
       "      <td>intj</td>\n",
       "    </tr>\n",
       "    <tr>\n",
       "      <th>3</th>\n",
       "      <td>3</td>\n",
       "      <td>I'm like entp but idiotic|||Hey boy, do you wa...</td>\n",
       "      <td>intj</td>\n",
       "    </tr>\n",
       "    <tr>\n",
       "      <th>4</th>\n",
       "      <td>4</td>\n",
       "      <td>@kaeshurr1 Give it to @ZargarShanif ... He has...</td>\n",
       "      <td>intj</td>\n",
       "    </tr>\n",
       "  </tbody>\n",
       "</table>\n",
       "</div>"
      ],
      "text/plain": [
       "   Unnamed: 0                                               text label\n",
       "0           0  @Pericles216 @HierBeforeTheAC @Sachinettiyil T...  intj\n",
       "1           1  @Hispanthicckk Being you makes you look cute||...  intj\n",
       "2           2  @Alshymi Les balles sont réelles et sont tirée...  intj\n",
       "3           3  I'm like entp but idiotic|||Hey boy, do you wa...  intj\n",
       "4           4  @kaeshurr1 Give it to @ZargarShanif ... He has...  intj"
      ]
     },
     "execution_count": 2,
     "metadata": {},
     "output_type": "execute_result"
    }
   ],
   "source": [
    "df=pd.read_csv( 'twitter_MBTI.csv' )\n",
    "df.head()"
   ]
  },
  {
   "cell_type": "markdown",
   "id": "6d020d72",
   "metadata": {},
   "source": [
    "# Load Dataset\n",
    "Menampilkan dataset dalam bentuk dataframe."
   ]
  },
  {
   "cell_type": "code",
   "execution_count": 3,
   "id": "e50cee91",
   "metadata": {},
   "outputs": [
    {
     "name": "stdout",
     "output_type": "stream",
     "text": [
      "<class 'pandas.core.frame.DataFrame'>\n",
      "RangeIndex: 7811 entries, 0 to 7810\n",
      "Data columns (total 3 columns):\n",
      " #   Column      Non-Null Count  Dtype \n",
      "---  ------      --------------  ----- \n",
      " 0   Unnamed: 0  7811 non-null   int64 \n",
      " 1   text        7811 non-null   object\n",
      " 2   label       7811 non-null   object\n",
      "dtypes: int64(1), object(2)\n",
      "memory usage: 183.2+ KB\n"
     ]
    }
   ],
   "source": [
    "df.info()"
   ]
  },
  {
   "cell_type": "code",
   "execution_count": 4,
   "id": "1f1e5129",
   "metadata": {},
   "outputs": [],
   "source": [
    "df = df.drop(columns= [\"Unnamed: 0\"], axis =1)"
   ]
  },
  {
   "cell_type": "markdown",
   "id": "d1c89beb",
   "metadata": {},
   "source": [
    "# Drop Columns\n",
    "Menghapus kolom yang dirasa tidak diperlukan. Disini kami menghapus kolom \"Unnamed:0\" karena itu hanya nomor urut saja"
   ]
  },
  {
   "cell_type": "code",
   "execution_count": 5,
   "id": "6272bf89",
   "metadata": {},
   "outputs": [
    {
     "data": {
      "text/plain": [
       "<Axes: xlabel='label'>"
      ]
     },
     "execution_count": 5,
     "metadata": {},
     "output_type": "execute_result"
    },
    {
     "data": {
      "image/png": "[encoded data removed]",
      "text/plain": [
       "<Figure size 1000x400 with 1 Axes>"
      ]
     },
     "metadata": {},
     "output_type": "display_data"
    }
   ],
   "source": [
    "y_label = ['intj','infp','infj','intp','enfp','entj','entp','enfj','istj','istp','isfp','isfj','estj','estp','esfp','esfj']\n",
    "plt.figure(figsize=(10,4))\n",
    "df.label.value_counts().plot(kind='bar')"
   ]
  },
  {
   "cell_type": "markdown",
   "id": "8e588d01",
   "metadata": {},
   "source": [
    "# Count the number of each label\n",
    "Menghitung jumlah dari masing-masing label dengan menggunakan bar plot"
   ]
  },
  {
   "cell_type": "code",
   "execution_count": 6,
   "id": "e24a5211",
   "metadata": {},
   "outputs": [],
   "source": [
    "import re\n",
    "def remove_pattern(input_txt, pattern):\n",
    "    r = re.findall(pattern, input_txt)\n",
    "    for i in r:\n",
    "        input_txt = re.sub(i, \"\", input_txt)\n",
    "    return input_txt"
   ]
  },
  {
   "cell_type": "markdown",
   "id": "645980ce",
   "metadata": {},
   "source": [
    "# Make function remove_pattern\n",
    "Membuat fungsi yang nantinya akan digunakan untuk menghapus mention pada dataset karena tidak diperlukan dalam pengolahan data"
   ]
  },
  {
   "cell_type": "code",
   "execution_count": 7,
   "id": "3974fdd1",
   "metadata": {},
   "outputs": [
    {
     "data": {
      "text/html": [
       "<div>\n",
       "<style scoped>\n",
       "    .dataframe tbody tr th:only-of-type {\n",
       "        vertical-align: middle;\n",
       "    }\n",
       "\n",
       "    .dataframe tbody tr th {\n",
       "        vertical-align: top;\n",
       "    }\n",
       "\n",
       "    .dataframe thead th {\n",
       "        text-align: right;\n",
       "    }\n",
       "</style>\n",
       "<table border=\"1\" class=\"dataframe\">\n",
       "  <thead>\n",
       "    <tr style=\"text-align: right;\">\n",
       "      <th></th>\n",
       "      <th>text</th>\n",
       "      <th>label</th>\n",
       "      <th>twitt</th>\n",
       "    </tr>\n",
       "  </thead>\n",
       "  <tbody>\n",
       "    <tr>\n",
       "      <th>0</th>\n",
       "      <td>@Pericles216 @HierBeforeTheAC @Sachinettiyil T...</td>\n",
       "      <td>intj</td>\n",
       "      <td>The Pope is infallible, this is a catholic ...</td>\n",
       "    </tr>\n",
       "    <tr>\n",
       "      <th>1</th>\n",
       "      <td>@Hispanthicckk Being you makes you look cute||...</td>\n",
       "      <td>intj</td>\n",
       "      <td>Being you makes you look cute||| On, because ...</td>\n",
       "    </tr>\n",
       "    <tr>\n",
       "      <th>2</th>\n",
       "      <td>@Alshymi Les balles sont réelles et sont tirée...</td>\n",
       "      <td>intj</td>\n",
       "      <td>Les balles sont réelles et sont tirées très r...</td>\n",
       "    </tr>\n",
       "    <tr>\n",
       "      <th>3</th>\n",
       "      <td>I'm like entp but idiotic|||Hey boy, do you wa...</td>\n",
       "      <td>intj</td>\n",
       "      <td>I'm like entp but idiotic|||Hey boy, do you wa...</td>\n",
       "    </tr>\n",
       "    <tr>\n",
       "      <th>4</th>\n",
       "      <td>@kaeshurr1 Give it to @ZargarShanif ... He has...</td>\n",
       "      <td>intj</td>\n",
       "      <td>Give it to  ... He has Pica since childhood||...</td>\n",
       "    </tr>\n",
       "  </tbody>\n",
       "</table>\n",
       "</div>"
      ],
      "text/plain": [
       "                                                text label  \\\n",
       "0  @Pericles216 @HierBeforeTheAC @Sachinettiyil T...  intj   \n",
       "1  @Hispanthicckk Being you makes you look cute||...  intj   \n",
       "2  @Alshymi Les balles sont réelles et sont tirée...  intj   \n",
       "3  I'm like entp but idiotic|||Hey boy, do you wa...  intj   \n",
       "4  @kaeshurr1 Give it to @ZargarShanif ... He has...  intj   \n",
       "\n",
       "                                               twitt  \n",
       "0     The Pope is infallible, this is a catholic ...  \n",
       "1   Being you makes you look cute||| On, because ...  \n",
       "2   Les balles sont réelles et sont tirées très r...  \n",
       "3  I'm like entp but idiotic|||Hey boy, do you wa...  \n",
       "4   Give it to  ... He has Pica since childhood||...  "
      ]
     },
     "execution_count": 7,
     "metadata": {},
     "output_type": "execute_result"
    }
   ],
   "source": [
    "df['twitt'] = np.vectorize(remove_pattern)(df['text'],\"@[\\w]*\")\n",
    "df.head()"
   ]
  },
  {
   "cell_type": "markdown",
   "id": "0c80f83c",
   "metadata": {},
   "source": [
    "# Use remove_pattern\n",
    "Fungsi remove_pattern diaplikasikan pada kolom text. Kemudian untuk hasil dari remove_pattern dapat dilihat pada kolom \"twitt\" yang dimana mention an telah hilang"
   ]
  },
  {
   "cell_type": "code",
   "execution_count": 8,
   "id": "b6dcde2c",
   "metadata": {},
   "outputs": [
    {
     "data": {
      "text/html": [
       "<div>\n",
       "<style scoped>\n",
       "    .dataframe tbody tr th:only-of-type {\n",
       "        vertical-align: middle;\n",
       "    }\n",
       "\n",
       "    .dataframe tbody tr th {\n",
       "        vertical-align: top;\n",
       "    }\n",
       "\n",
       "    .dataframe thead th {\n",
       "        text-align: right;\n",
       "    }\n",
       "</style>\n",
       "<table border=\"1\" class=\"dataframe\">\n",
       "  <thead>\n",
       "    <tr style=\"text-align: right;\">\n",
       "      <th></th>\n",
       "      <th>text</th>\n",
       "      <th>label</th>\n",
       "      <th>twitt</th>\n",
       "    </tr>\n",
       "  </thead>\n",
       "  <tbody>\n",
       "    <tr>\n",
       "      <th>0</th>\n",
       "      <td>@Pericles216 @HierBeforeTheAC @Sachinettiyil T...</td>\n",
       "      <td>intj</td>\n",
       "      <td>The Pope is infallible, this is a catholic ...</td>\n",
       "    </tr>\n",
       "    <tr>\n",
       "      <th>1</th>\n",
       "      <td>@Hispanthicckk Being you makes you look cute||...</td>\n",
       "      <td>intj</td>\n",
       "      <td>Being you makes you look cute||| On, because ...</td>\n",
       "    </tr>\n",
       "    <tr>\n",
       "      <th>2</th>\n",
       "      <td>@Alshymi Les balles sont réelles et sont tirée...</td>\n",
       "      <td>intj</td>\n",
       "      <td>Les balles sont réelles et sont tirées très r...</td>\n",
       "    </tr>\n",
       "    <tr>\n",
       "      <th>3</th>\n",
       "      <td>I'm like entp but idiotic|||Hey boy, do you wa...</td>\n",
       "      <td>intj</td>\n",
       "      <td>I'm like entp but idiotic|||Hey boy, do you wa...</td>\n",
       "    </tr>\n",
       "    <tr>\n",
       "      <th>4</th>\n",
       "      <td>@kaeshurr1 Give it to @ZargarShanif ... He has...</td>\n",
       "      <td>intj</td>\n",
       "      <td>Give it to  ... He has Pica since childhood||...</td>\n",
       "    </tr>\n",
       "  </tbody>\n",
       "</table>\n",
       "</div>"
      ],
      "text/plain": [
       "                                                text label  \\\n",
       "0  @Pericles216 @HierBeforeTheAC @Sachinettiyil T...  intj   \n",
       "1  @Hispanthicckk Being you makes you look cute||...  intj   \n",
       "2  @Alshymi Les balles sont réelles et sont tirée...  intj   \n",
       "3  I'm like entp but idiotic|||Hey boy, do you wa...  intj   \n",
       "4  @kaeshurr1 Give it to @ZargarShanif ... He has...  intj   \n",
       "\n",
       "                                               twitt  \n",
       "0     The Pope is infallible, this is a catholic ...  \n",
       "1   Being you makes you look cute||| On, because ...  \n",
       "2   Les balles sont réelles et sont tirées très r...  \n",
       "3  I'm like entp but idiotic|||Hey boy, do you wa...  \n",
       "4   Give it to  ... He has Pica since childhood||...  "
      ]
     },
     "execution_count": 8,
     "metadata": {},
     "output_type": "execute_result"
    }
   ],
   "source": [
    "df['twitt'] = df['twitt'].str.replace(\"[^a-zA-Z]\",\" \")\n",
    "df.head()"
   ]
  },
  {
   "cell_type": "markdown",
   "id": "e668b184",
   "metadata": {},
   "source": [
    "# Regex\n",
    "Digunakan untuk menghapus text selain huruf"
   ]
  },
  {
   "cell_type": "code",
   "execution_count": 9,
   "id": "6f9f8265",
   "metadata": {},
   "outputs": [
    {
     "data": {
      "text/html": [
       "<div>\n",
       "<style scoped>\n",
       "    .dataframe tbody tr th:only-of-type {\n",
       "        vertical-align: middle;\n",
       "    }\n",
       "\n",
       "    .dataframe tbody tr th {\n",
       "        vertical-align: top;\n",
       "    }\n",
       "\n",
       "    .dataframe thead th {\n",
       "        text-align: right;\n",
       "    }\n",
       "</style>\n",
       "<table border=\"1\" class=\"dataframe\">\n",
       "  <thead>\n",
       "    <tr style=\"text-align: right;\">\n",
       "      <th></th>\n",
       "      <th>text</th>\n",
       "      <th>label</th>\n",
       "      <th>twitt</th>\n",
       "    </tr>\n",
       "  </thead>\n",
       "  <tbody>\n",
       "    <tr>\n",
       "      <th>0</th>\n",
       "      <td>@Pericles216 @HierBeforeTheAC @Sachinettiyil T...</td>\n",
       "      <td>intj</td>\n",
       "      <td>the pope is infallible, this is a catholic dog...</td>\n",
       "    </tr>\n",
       "    <tr>\n",
       "      <th>1</th>\n",
       "      <td>@Hispanthicckk Being you makes you look cute||...</td>\n",
       "      <td>intj</td>\n",
       "      <td>being you makes you look cute||| on, because t...</td>\n",
       "    </tr>\n",
       "    <tr>\n",
       "      <th>2</th>\n",
       "      <td>@Alshymi Les balles sont réelles et sont tirée...</td>\n",
       "      <td>intj</td>\n",
       "      <td>les balles sont réelles et sont tirées très ra...</td>\n",
       "    </tr>\n",
       "    <tr>\n",
       "      <th>3</th>\n",
       "      <td>I'm like entp but idiotic|||Hey boy, do you wa...</td>\n",
       "      <td>intj</td>\n",
       "      <td>i'm like entp but idiotic|||hey boy, do you wa...</td>\n",
       "    </tr>\n",
       "    <tr>\n",
       "      <th>4</th>\n",
       "      <td>@kaeshurr1 Give it to @ZargarShanif ... He has...</td>\n",
       "      <td>intj</td>\n",
       "      <td>give it to  ... he has pica since childhood|||...</td>\n",
       "    </tr>\n",
       "  </tbody>\n",
       "</table>\n",
       "</div>"
      ],
      "text/plain": [
       "                                                text label  \\\n",
       "0  @Pericles216 @HierBeforeTheAC @Sachinettiyil T...  intj   \n",
       "1  @Hispanthicckk Being you makes you look cute||...  intj   \n",
       "2  @Alshymi Les balles sont réelles et sont tirée...  intj   \n",
       "3  I'm like entp but idiotic|||Hey boy, do you wa...  intj   \n",
       "4  @kaeshurr1 Give it to @ZargarShanif ... He has...  intj   \n",
       "\n",
       "                                               twitt  \n",
       "0  the pope is infallible, this is a catholic dog...  \n",
       "1  being you makes you look cute||| on, because t...  \n",
       "2  les balles sont réelles et sont tirées très ra...  \n",
       "3  i'm like entp but idiotic|||hey boy, do you wa...  \n",
       "4  give it to  ... he has pica since childhood|||...  "
      ]
     },
     "execution_count": 9,
     "metadata": {},
     "output_type": "execute_result"
    }
   ],
   "source": [
    "def casefolding(twitt):\n",
    "    twitt = twitt.lower()\n",
    "    twitt = twitt.strip(\" \")\n",
    "    return twitt\n",
    "df['twitt'] = df['twitt'].apply(casefolding)\n",
    "df.head()"
   ]
  },
  {
   "cell_type": "markdown",
   "id": "5d644867",
   "metadata": {},
   "source": [
    "# Casefolding\n",
    "Dilakukan untuk mengubah huruf kapital pada text menjadi huruf kecil"
   ]
  },
  {
   "cell_type": "code",
   "execution_count": 10,
   "id": "c9e0f154",
   "metadata": {},
   "outputs": [
    {
     "data": {
      "text/html": [
       "<div>\n",
       "<style scoped>\n",
       "    .dataframe tbody tr th:only-of-type {\n",
       "        vertical-align: middle;\n",
       "    }\n",
       "\n",
       "    .dataframe tbody tr th {\n",
       "        vertical-align: top;\n",
       "    }\n",
       "\n",
       "    .dataframe thead th {\n",
       "        text-align: right;\n",
       "    }\n",
       "</style>\n",
       "<table border=\"1\" class=\"dataframe\">\n",
       "  <thead>\n",
       "    <tr style=\"text-align: right;\">\n",
       "      <th></th>\n",
       "      <th>text</th>\n",
       "      <th>label</th>\n",
       "      <th>twitt</th>\n",
       "    </tr>\n",
       "  </thead>\n",
       "  <tbody>\n",
       "    <tr>\n",
       "      <th>0</th>\n",
       "      <td>@Pericles216 @HierBeforeTheAC @Sachinettiyil T...</td>\n",
       "      <td>intj</td>\n",
       "      <td>[the, pope, is, infallible,, this, is, a, cath...</td>\n",
       "    </tr>\n",
       "    <tr>\n",
       "      <th>1</th>\n",
       "      <td>@Hispanthicckk Being you makes you look cute||...</td>\n",
       "      <td>intj</td>\n",
       "      <td>[being, you, makes, you, look, cute|||, on,, b...</td>\n",
       "    </tr>\n",
       "    <tr>\n",
       "      <th>2</th>\n",
       "      <td>@Alshymi Les balles sont réelles et sont tirée...</td>\n",
       "      <td>intj</td>\n",
       "      <td>[les, balles, sont, réelles, et, sont, tirées,...</td>\n",
       "    </tr>\n",
       "    <tr>\n",
       "      <th>3</th>\n",
       "      <td>I'm like entp but idiotic|||Hey boy, do you wa...</td>\n",
       "      <td>intj</td>\n",
       "      <td>[i'm, like, entp, but, idiotic|||hey, boy,, do...</td>\n",
       "    </tr>\n",
       "    <tr>\n",
       "      <th>4</th>\n",
       "      <td>@kaeshurr1 Give it to @ZargarShanif ... He has...</td>\n",
       "      <td>intj</td>\n",
       "      <td>[give, it, to, ..., he, has, pica, since, chil...</td>\n",
       "    </tr>\n",
       "  </tbody>\n",
       "</table>\n",
       "</div>"
      ],
      "text/plain": [
       "                                                text label  \\\n",
       "0  @Pericles216 @HierBeforeTheAC @Sachinettiyil T...  intj   \n",
       "1  @Hispanthicckk Being you makes you look cute||...  intj   \n",
       "2  @Alshymi Les balles sont réelles et sont tirée...  intj   \n",
       "3  I'm like entp but idiotic|||Hey boy, do you wa...  intj   \n",
       "4  @kaeshurr1 Give it to @ZargarShanif ... He has...  intj   \n",
       "\n",
       "                                               twitt  \n",
       "0  [the, pope, is, infallible,, this, is, a, cath...  \n",
       "1  [being, you, makes, you, look, cute|||, on,, b...  \n",
       "2  [les, balles, sont, réelles, et, sont, tirées,...  \n",
       "3  [i'm, like, entp, but, idiotic|||hey, boy,, do...  \n",
       "4  [give, it, to, ..., he, has, pica, since, chil...  "
      ]
     },
     "execution_count": 10,
     "metadata": {},
     "output_type": "execute_result"
    }
   ],
   "source": [
    "df['twitt'] = df['twitt'].apply(lambda x: x.split())\n",
    "df.head()"
   ]
  },
  {
   "cell_type": "markdown",
   "id": "56d30a05",
   "metadata": {},
   "source": [
    "# Tokenizing\n",
    "Digunakan untuk memecah kalimat-kalimat tersebut menjadi kata atau disebut dengan token guna mempermudah proses analisis"
   ]
  },
  {
   "cell_type": "code",
   "execution_count": 11,
   "id": "f11cbdcc",
   "metadata": {},
   "outputs": [
    {
     "data": {
      "text/html": [
       "<div>\n",
       "<style scoped>\n",
       "    .dataframe tbody tr th:only-of-type {\n",
       "        vertical-align: middle;\n",
       "    }\n",
       "\n",
       "    .dataframe tbody tr th {\n",
       "        vertical-align: top;\n",
       "    }\n",
       "\n",
       "    .dataframe thead th {\n",
       "        text-align: right;\n",
       "    }\n",
       "</style>\n",
       "<table border=\"1\" class=\"dataframe\">\n",
       "  <thead>\n",
       "    <tr style=\"text-align: right;\">\n",
       "      <th></th>\n",
       "      <th>text</th>\n",
       "      <th>label</th>\n",
       "      <th>twitt</th>\n",
       "    </tr>\n",
       "  </thead>\n",
       "  <tbody>\n",
       "    <tr>\n",
       "      <th>0</th>\n",
       "      <td>@Pericles216 @HierBeforeTheAC @Sachinettiyil T...</td>\n",
       "      <td>intj</td>\n",
       "      <td>[the, pope, is, infallible,, this, is, a, cath...</td>\n",
       "    </tr>\n",
       "    <tr>\n",
       "      <th>1</th>\n",
       "      <td>@Hispanthicckk Being you makes you look cute||...</td>\n",
       "      <td>intj</td>\n",
       "      <td>[being, you, makes, you, look, cute|||, on,, b...</td>\n",
       "    </tr>\n",
       "    <tr>\n",
       "      <th>2</th>\n",
       "      <td>@Alshymi Les balles sont réelles et sont tirée...</td>\n",
       "      <td>intj</td>\n",
       "      <td>[balles, réelles, tirées, très, rapidement|||,...</td>\n",
       "    </tr>\n",
       "    <tr>\n",
       "      <th>3</th>\n",
       "      <td>I'm like entp but idiotic|||Hey boy, do you wa...</td>\n",
       "      <td>intj</td>\n",
       "      <td>[i'm, like, entp, but, idiotic|||hey, boy,, do...</td>\n",
       "    </tr>\n",
       "    <tr>\n",
       "      <th>4</th>\n",
       "      <td>@kaeshurr1 Give it to @ZargarShanif ... He has...</td>\n",
       "      <td>intj</td>\n",
       "      <td>[give, it, to, ..., he, has, pica, since, chil...</td>\n",
       "    </tr>\n",
       "  </tbody>\n",
       "</table>\n",
       "</div>"
      ],
      "text/plain": [
       "                                                text label  \\\n",
       "0  @Pericles216 @HierBeforeTheAC @Sachinettiyil T...  intj   \n",
       "1  @Hispanthicckk Being you makes you look cute||...  intj   \n",
       "2  @Alshymi Les balles sont réelles et sont tirée...  intj   \n",
       "3  I'm like entp but idiotic|||Hey boy, do you wa...  intj   \n",
       "4  @kaeshurr1 Give it to @ZargarShanif ... He has...  intj   \n",
       "\n",
       "                                               twitt  \n",
       "0  [the, pope, is, infallible,, this, is, a, cath...  \n",
       "1  [being, you, makes, you, look, cute|||, on,, b...  \n",
       "2  [balles, réelles, tirées, très, rapidement|||,...  \n",
       "3  [i'm, like, entp, but, idiotic|||hey, boy,, do...  \n",
       "4  [give, it, to, ..., he, has, pica, since, chil...  "
      ]
     },
     "execution_count": 11,
     "metadata": {},
     "output_type": "execute_result"
    }
   ],
   "source": [
    "def stopword_remove(twitt):\n",
    "    filtering = stopwords.words('french','english')\n",
    "    x =[]\n",
    "    data = []\n",
    "    def myFunc(x):\n",
    "        if x in filtering:\n",
    "            return False\n",
    "        else:\n",
    "            return True\n",
    "    fit = filter(myFunc, twitt)\n",
    "    for x in fit:\n",
    "        data.append(x)\n",
    "    return data\n",
    "df['twitt'] = df['twitt'].apply(stopword_remove)\n",
    "df.head()"
   ]
  },
  {
   "cell_type": "markdown",
   "id": "e0ff03bd",
   "metadata": {},
   "source": [
    "# Filtering\n",
    "Filtering ini menggunakan stopword_remove. Stopword adalah kata umum yang biasanya muncul dan tidak memiliki makna. Jadi, pada tahap ini akan menghapus kata yang tidak memiliki makna"
   ]
  },
  {
   "cell_type": "code",
   "execution_count": 12,
   "id": "8f453408",
   "metadata": {},
   "outputs": [
    {
     "data": {
      "text/html": [
       "<div>\n",
       "<style scoped>\n",
       "    .dataframe tbody tr th:only-of-type {\n",
       "        vertical-align: middle;\n",
       "    }\n",
       "\n",
       "    .dataframe tbody tr th {\n",
       "        vertical-align: top;\n",
       "    }\n",
       "\n",
       "    .dataframe thead th {\n",
       "        text-align: right;\n",
       "    }\n",
       "</style>\n",
       "<table border=\"1\" class=\"dataframe\">\n",
       "  <thead>\n",
       "    <tr style=\"text-align: right;\">\n",
       "      <th></th>\n",
       "      <th>text</th>\n",
       "      <th>label</th>\n",
       "      <th>twitt</th>\n",
       "    </tr>\n",
       "  </thead>\n",
       "  <tbody>\n",
       "    <tr>\n",
       "      <th>0</th>\n",
       "      <td>@Pericles216 @HierBeforeTheAC @Sachinettiyil T...</td>\n",
       "      <td>intj</td>\n",
       "      <td>[the, pope, is, infallible,, thi, is, a, catho...</td>\n",
       "    </tr>\n",
       "    <tr>\n",
       "      <th>1</th>\n",
       "      <td>@Hispanthicckk Being you makes you look cute||...</td>\n",
       "      <td>intj</td>\n",
       "      <td>[be, you, make, you, look, cute|||, on,, becau...</td>\n",
       "    </tr>\n",
       "    <tr>\n",
       "      <th>2</th>\n",
       "      <td>@Alshymi Les balles sont réelles et sont tirée...</td>\n",
       "      <td>intj</td>\n",
       "      <td>[ball, réell, tiré, trè, rapidement|||, omg, t...</td>\n",
       "    </tr>\n",
       "    <tr>\n",
       "      <th>3</th>\n",
       "      <td>I'm like entp but idiotic|||Hey boy, do you wa...</td>\n",
       "      <td>intj</td>\n",
       "      <td>[i'm, like, entp, but, idiotic|||hey, boy,, do...</td>\n",
       "    </tr>\n",
       "    <tr>\n",
       "      <th>4</th>\n",
       "      <td>@kaeshurr1 Give it to @ZargarShanif ... He has...</td>\n",
       "      <td>intj</td>\n",
       "      <td>[give, it, to, ..., he, ha, pica, sinc, childh...</td>\n",
       "    </tr>\n",
       "  </tbody>\n",
       "</table>\n",
       "</div>"
      ],
      "text/plain": [
       "                                                text label  \\\n",
       "0  @Pericles216 @HierBeforeTheAC @Sachinettiyil T...  intj   \n",
       "1  @Hispanthicckk Being you makes you look cute||...  intj   \n",
       "2  @Alshymi Les balles sont réelles et sont tirée...  intj   \n",
       "3  I'm like entp but idiotic|||Hey boy, do you wa...  intj   \n",
       "4  @kaeshurr1 Give it to @ZargarShanif ... He has...  intj   \n",
       "\n",
       "                                               twitt  \n",
       "0  [the, pope, is, infallible,, thi, is, a, catho...  \n",
       "1  [be, you, make, you, look, cute|||, on,, becau...  \n",
       "2  [ball, réell, tiré, trè, rapidement|||, omg, t...  \n",
       "3  [i'm, like, entp, but, idiotic|||hey, boy,, do...  \n",
       "4  [give, it, to, ..., he, ha, pica, sinc, childh...  "
      ]
     },
     "execution_count": 12,
     "metadata": {},
     "output_type": "execute_result"
    }
   ],
   "source": [
    "stemmer = PorterStemmer()\n",
    "df['twitt'] = df['twitt'].apply(lambda sentence: [stemmer.stem(word) for word in sentence])\n",
    "df.head()"
   ]
  },
  {
   "cell_type": "markdown",
   "id": "6408cc41",
   "metadata": {},
   "source": [
    "# Stemmer\n",
    "Diperlukan untuk memperkecil jumlah indeks yang berbeda dari satu data sehingga sebuah kata yang memiliki suffix maupun prefix akan kembali ke bentuk dasarnya"
   ]
  },
  {
   "cell_type": "code",
   "execution_count": 13,
   "id": "36bab6e1",
   "metadata": {
    "scrolled": true
   },
   "outputs": [
    {
     "data": {
      "text/html": [
       "<div>\n",
       "<style scoped>\n",
       "    .dataframe tbody tr th:only-of-type {\n",
       "        vertical-align: middle;\n",
       "    }\n",
       "\n",
       "    .dataframe tbody tr th {\n",
       "        vertical-align: top;\n",
       "    }\n",
       "\n",
       "    .dataframe thead th {\n",
       "        text-align: right;\n",
       "    }\n",
       "</style>\n",
       "<table border=\"1\" class=\"dataframe\">\n",
       "  <thead>\n",
       "    <tr style=\"text-align: right;\">\n",
       "      <th></th>\n",
       "      <th>text</th>\n",
       "      <th>label</th>\n",
       "      <th>twitt</th>\n",
       "      <th>dimension1</th>\n",
       "      <th>dimension2</th>\n",
       "      <th>dimension3</th>\n",
       "      <th>dimension4</th>\n",
       "    </tr>\n",
       "  </thead>\n",
       "  <tbody>\n",
       "    <tr>\n",
       "      <th>0</th>\n",
       "      <td>@Pericles216 @HierBeforeTheAC @Sachinettiyil T...</td>\n",
       "      <td>intj</td>\n",
       "      <td>[the, pope, is, infallible,, thi, is, a, catho...</td>\n",
       "      <td>i</td>\n",
       "      <td>n</td>\n",
       "      <td>t</td>\n",
       "      <td>j</td>\n",
       "    </tr>\n",
       "    <tr>\n",
       "      <th>1</th>\n",
       "      <td>@Hispanthicckk Being you makes you look cute||...</td>\n",
       "      <td>intj</td>\n",
       "      <td>[be, you, make, you, look, cute|||, on,, becau...</td>\n",
       "      <td>i</td>\n",
       "      <td>n</td>\n",
       "      <td>t</td>\n",
       "      <td>j</td>\n",
       "    </tr>\n",
       "    <tr>\n",
       "      <th>2</th>\n",
       "      <td>@Alshymi Les balles sont réelles et sont tirée...</td>\n",
       "      <td>intj</td>\n",
       "      <td>[ball, réell, tiré, trè, rapidement|||, omg, t...</td>\n",
       "      <td>i</td>\n",
       "      <td>n</td>\n",
       "      <td>t</td>\n",
       "      <td>j</td>\n",
       "    </tr>\n",
       "    <tr>\n",
       "      <th>3</th>\n",
       "      <td>I'm like entp but idiotic|||Hey boy, do you wa...</td>\n",
       "      <td>intj</td>\n",
       "      <td>[i'm, like, entp, but, idiotic|||hey, boy,, do...</td>\n",
       "      <td>i</td>\n",
       "      <td>n</td>\n",
       "      <td>t</td>\n",
       "      <td>j</td>\n",
       "    </tr>\n",
       "    <tr>\n",
       "      <th>4</th>\n",
       "      <td>@kaeshurr1 Give it to @ZargarShanif ... He has...</td>\n",
       "      <td>intj</td>\n",
       "      <td>[give, it, to, ..., he, ha, pica, sinc, childh...</td>\n",
       "      <td>i</td>\n",
       "      <td>n</td>\n",
       "      <td>t</td>\n",
       "      <td>j</td>\n",
       "    </tr>\n",
       "    <tr>\n",
       "      <th>...</th>\n",
       "      <td>...</td>\n",
       "      <td>...</td>\n",
       "      <td>...</td>\n",
       "      <td>...</td>\n",
       "      <td>...</td>\n",
       "      <td>...</td>\n",
       "      <td>...</td>\n",
       "    </tr>\n",
       "    <tr>\n",
       "      <th>7806</th>\n",
       "      <td>@sobsjjun God,,pls take care 😕|||@sobsjjun Hir...</td>\n",
       "      <td>intp</td>\n",
       "      <td>[god,,pl, take, care, 😕|||, hiro, emerg, room?...</td>\n",
       "      <td>i</td>\n",
       "      <td>n</td>\n",
       "      <td>t</td>\n",
       "      <td>p</td>\n",
       "    </tr>\n",
       "    <tr>\n",
       "      <th>7807</th>\n",
       "      <td>@Ignis_02 wow last time i got intp https://t.c...</td>\n",
       "      <td>intp</td>\n",
       "      <td>[wow, last, time, i, got, intp, https://t.co/h...</td>\n",
       "      <td>i</td>\n",
       "      <td>n</td>\n",
       "      <td>t</td>\n",
       "      <td>p</td>\n",
       "    </tr>\n",
       "    <tr>\n",
       "      <th>7808</th>\n",
       "      <td>@akupilled A 100%|||@akupilled That SOMEONE wi...</td>\n",
       "      <td>entp</td>\n",
       "      <td>[a, 100%|||, that, someon, will, get, hi, ass,...</td>\n",
       "      <td>e</td>\n",
       "      <td>n</td>\n",
       "      <td>t</td>\n",
       "      <td>p</td>\n",
       "    </tr>\n",
       "    <tr>\n",
       "      <th>7809</th>\n",
       "      <td>If you’re #INTJ this one is for you | What is ...</td>\n",
       "      <td>infj</td>\n",
       "      <td>[if, you’r, #intj, thi, one, is, for, you, |, ...</td>\n",
       "      <td>i</td>\n",
       "      <td>n</td>\n",
       "      <td>f</td>\n",
       "      <td>j</td>\n",
       "    </tr>\n",
       "    <tr>\n",
       "      <th>7810</th>\n",
       "      <td>@harry__lambert @gucci hey can you dm me a pic...</td>\n",
       "      <td>istp</td>\n",
       "      <td>[hey, can, you, dm, a, pic, of, what, harri, i...</td>\n",
       "      <td>i</td>\n",
       "      <td>s</td>\n",
       "      <td>t</td>\n",
       "      <td>p</td>\n",
       "    </tr>\n",
       "  </tbody>\n",
       "</table>\n",
       "<p>7811 rows × 7 columns</p>\n",
       "</div>"
      ],
      "text/plain": [
       "                                                   text label  \\\n",
       "0     @Pericles216 @HierBeforeTheAC @Sachinettiyil T...  intj   \n",
       "1     @Hispanthicckk Being you makes you look cute||...  intj   \n",
       "2     @Alshymi Les balles sont réelles et sont tirée...  intj   \n",
       "3     I'm like entp but idiotic|||Hey boy, do you wa...  intj   \n",
       "4     @kaeshurr1 Give it to @ZargarShanif ... He has...  intj   \n",
       "...                                                 ...   ...   \n",
       "7806  @sobsjjun God,,pls take care 😕|||@sobsjjun Hir...  intp   \n",
       "7807  @Ignis_02 wow last time i got intp https://t.c...  intp   \n",
       "7808  @akupilled A 100%|||@akupilled That SOMEONE wi...  entp   \n",
       "7809  If you’re #INTJ this one is for you | What is ...  infj   \n",
       "7810  @harry__lambert @gucci hey can you dm me a pic...  istp   \n",
       "\n",
       "                                                  twitt dimension1 dimension2  \\\n",
       "0     [the, pope, is, infallible,, thi, is, a, catho...          i          n   \n",
       "1     [be, you, make, you, look, cute|||, on,, becau...          i          n   \n",
       "2     [ball, réell, tiré, trè, rapidement|||, omg, t...          i          n   \n",
       "3     [i'm, like, entp, but, idiotic|||hey, boy,, do...          i          n   \n",
       "4     [give, it, to, ..., he, ha, pica, sinc, childh...          i          n   \n",
       "...                                                 ...        ...        ...   \n",
       "7806  [god,,pl, take, care, 😕|||, hiro, emerg, room?...          i          n   \n",
       "7807  [wow, last, time, i, got, intp, https://t.co/h...          i          n   \n",
       "7808  [a, 100%|||, that, someon, will, get, hi, ass,...          e          n   \n",
       "7809  [if, you’r, #intj, thi, one, is, for, you, |, ...          i          n   \n",
       "7810  [hey, can, you, dm, a, pic, of, what, harri, i...          i          s   \n",
       "\n",
       "     dimension3 dimension4  \n",
       "0             t          j  \n",
       "1             t          j  \n",
       "2             t          j  \n",
       "3             t          j  \n",
       "4             t          j  \n",
       "...         ...        ...  \n",
       "7806          t          p  \n",
       "7807          t          p  \n",
       "7808          t          p  \n",
       "7809          f          j  \n",
       "7810          t          p  \n",
       "\n",
       "[7811 rows x 7 columns]"
      ]
     },
     "execution_count": 13,
     "metadata": {},
     "output_type": "execute_result"
    }
   ],
   "source": [
    "split = df['label'].apply(lambda x: pd.Series(list(x)))\n",
    "split.columns= [f'dimension{i+1}' for i in range(split.shape[1])]\n",
    "\n",
    "df = pd.concat([df, split], axis=1)\n",
    "\n",
    "df"
   ]
  },
  {
   "cell_type": "markdown",
   "id": "71898e25",
   "metadata": {},
   "source": [
    "# Split Label in Dataset\n",
    "membagi kolom label yang berisi MBTI secara keseluruhan dibagi menjadi 4 dimensi sesuai dengan kategorinya, hal ini dilakukan untuk mencegah kebingungan machine learning saat melakukan klasifikasi"
   ]
  },
  {
   "cell_type": "markdown",
   "id": "d84142ff",
   "metadata": {},
   "source": [
    "# Bag of Word"
   ]
  },
  {
   "cell_type": "code",
   "execution_count": 14,
   "id": "96e9df5e",
   "metadata": {},
   "outputs": [],
   "source": [
    "from sklearn.feature_extraction.text import CountVectorizer\n",
    "from sklearn.feature_extraction.text import TfidfVectorizer\n",
    "\n",
    "x = df.twitt.astype(str)\n",
    "y1 = df.dimension1\n",
    "y2 = df.dimension2\n",
    "y3 = df.dimension3\n",
    "y4 = df.dimension4\n",
    "vectorizer = CountVectorizer()\n",
    "x_bow = vectorizer.fit_transform(x)"
   ]
  },
  {
   "cell_type": "code",
   "execution_count": 15,
   "id": "90d1de43",
   "metadata": {},
   "outputs": [],
   "source": [
    "from sklearn.model_selection import train_test_split\n",
    "x_train,x_test,y1_train,y1_test=train_test_split(x_bow,y1,test_size=0.2,random_state=42)\n",
    "x_train,x_test,y2_train,y2_test=train_test_split(x_bow,y2,test_size=0.2,random_state=42)\n",
    "x_train,x_test,y3_train,y3_test=train_test_split(x_bow,y3,test_size=0.2,random_state=42)\n",
    "x_train,x_test,y4_train,y4_test=train_test_split(x_bow,y4,test_size=0.2,random_state=42)"
   ]
  },
  {
   "cell_type": "markdown",
   "id": "5d7eee8e",
   "metadata": {},
   "source": [
    "# Splitting Dataset\n",
    "Pada proses ini data akan dibagi menjadi 2 yaitu :\n",
    "\n",
    "data train -> data untuk pembelajaran data test -> data untuk pengujian disini kami menggunakan test_size 0.2 dan random_state 42 yang berarti data akan dibagi menjadi 20% data test dan 80% data train serta diacak"
   ]
  },
  {
   "cell_type": "code",
   "execution_count": 16,
   "id": "fc521178",
   "metadata": {},
   "outputs": [],
   "source": [
    "from sklearn.ensemble import RandomForestClassifier\n",
    "\n",
    "clf =RandomForestClassifier().fit(x_train,y1_train)\n",
    "predicted = clf.predict(x_test)"
   ]
  },
  {
   "cell_type": "markdown",
   "id": "69b87e59",
   "metadata": {},
   "source": [
    "# Evaluate The Model Dimension1\n",
    "Pada klasiikasi kita menilai kinerja model menggunakan matrik evaluasi seperti accuracy, precision, recall, dan F1-Score"
   ]
  },
  {
   "cell_type": "code",
   "execution_count": 17,
   "id": "69d1ddbf",
   "metadata": {
    "scrolled": true
   },
   "outputs": [
    {
     "name": "stdout",
     "output_type": "stream",
     "text": [
      "              precision    recall  f1-score   support\n",
      "\n",
      "           e       0.97      0.07      0.13       522\n",
      "           i       0.68      1.00      0.81      1041\n",
      "\n",
      "    accuracy                           0.69      1563\n",
      "   macro avg       0.83      0.53      0.47      1563\n",
      "weighted avg       0.78      0.69      0.58      1563\n",
      "\n"
     ]
    }
   ],
   "source": [
    "print(classification_report(y1_test, predicted))"
   ]
  },
  {
   "cell_type": "code",
   "execution_count": 18,
   "id": "941db446",
   "metadata": {},
   "outputs": [
    {
     "name": "stdout",
     "output_type": "stream",
     "text": [
      "              precision    recall  f1-score   support\n",
      "\n",
      "           n       0.79      1.00      0.88      1212\n",
      "           s       1.00      0.06      0.11       351\n",
      "\n",
      "    accuracy                           0.79      1563\n",
      "   macro avg       0.89      0.53      0.50      1563\n",
      "weighted avg       0.83      0.79      0.71      1563\n",
      "\n"
     ]
    }
   ],
   "source": [
    "clf =RandomForestClassifier().fit(x_train,y2_train)\n",
    "predicted = clf.predict(x_test)\n",
    "print(classification_report(y2_test, predicted))"
   ]
  },
  {
   "cell_type": "markdown",
   "id": "0ceb7747",
   "metadata": {},
   "source": [
    "# Evaluate The Model Dimension2"
   ]
  },
  {
   "cell_type": "code",
   "execution_count": 19,
   "id": "29d9e2ae",
   "metadata": {},
   "outputs": [
    {
     "name": "stdout",
     "output_type": "stream",
     "text": [
      "              precision    recall  f1-score   support\n",
      "\n",
      "           f       0.63      0.97      0.77       928\n",
      "           t       0.81      0.16      0.27       635\n",
      "\n",
      "    accuracy                           0.64      1563\n",
      "   macro avg       0.72      0.57      0.52      1563\n",
      "weighted avg       0.70      0.64      0.57      1563\n",
      "\n"
     ]
    }
   ],
   "source": [
    "clf =RandomForestClassifier().fit(x_train,y3_train)\n",
    "predicted = clf.predict(x_test)\n",
    "print(classification_report(y3_test, predicted))"
   ]
  },
  {
   "cell_type": "markdown",
   "id": "aae7c8cf",
   "metadata": {},
   "source": [
    "# Evaluate The Model Dimension3"
   ]
  },
  {
   "cell_type": "code",
   "execution_count": 20,
   "id": "50d27788",
   "metadata": {
    "scrolled": true
   },
   "outputs": [
    {
     "name": "stdout",
     "output_type": "stream",
     "text": [
      "              precision    recall  f1-score   support\n",
      "\n",
      "           j       0.72      0.33      0.46       691\n",
      "           p       0.63      0.90      0.74       872\n",
      "\n",
      "    accuracy                           0.65      1563\n",
      "   macro avg       0.67      0.61      0.60      1563\n",
      "weighted avg       0.67      0.65      0.61      1563\n",
      "\n"
     ]
    }
   ],
   "source": [
    "clf =RandomForestClassifier().fit(x_train,y4_train)\n",
    "predicted = clf.predict(x_test)\n",
    "print(classification_report(y4_test, predicted))"
   ]
  },
  {
   "cell_type": "markdown",
   "id": "0691910e",
   "metadata": {},
   "source": [
    "# Evaluate The Model Dimension4"
   ]
  },
  {
   "cell_type": "markdown",
   "id": "d0f1dfa6",
   "metadata": {},
   "source": [
    "# TFIDF"
   ]
  },
  {
   "cell_type": "code",
   "execution_count": 21,
   "id": "5de499f8",
   "metadata": {
    "scrolled": true
   },
   "outputs": [],
   "source": [
    "vectorizer = TfidfVectorizer()\n",
    "x_tfidf = vectorizer.fit_transform(x)"
   ]
  },
  {
   "cell_type": "code",
   "execution_count": 22,
   "id": "06d71d19",
   "metadata": {},
   "outputs": [],
   "source": [
    "from sklearn.model_selection import train_test_split\n",
    "x_train,x_test,y1_train,y1_test=train_test_split(x_tfidf,y1,test_size=0.2,random_state=42)\n",
    "x_train,x_test,y2_train,y2_test=train_test_split(x_tfidf,y2,test_size=0.2,random_state=42)\n",
    "x_train,x_test,y3_train,y3_test=train_test_split(x_tfidf,y3,test_size=0.2,random_state=42)\n",
    "x_train,x_test,y4_train,y4_test=train_test_split(x_tfidf,y4,test_size=0.2,random_state=42)"
   ]
  },
  {
   "cell_type": "markdown",
   "id": "9435ee8a",
   "metadata": {},
   "source": [
    "# Splitting Dataset\n",
    "Pada proses ini data akan dibagi menjadi 2 yaitu :\n",
    "\n",
    "data train -> data untuk pembelajaran data test -> data untuk pengujian disini kami menggunakan test_size 0.2 dan random_state 42 yang berarti data akan dibagi menjadi 20% data test dan 80% data train serta diacak"
   ]
  },
  {
   "cell_type": "code",
   "execution_count": 23,
   "id": "8b7c2f30",
   "metadata": {},
   "outputs": [
    {
     "name": "stdout",
     "output_type": "stream",
     "text": [
      "              precision    recall  f1-score   support\n",
      "\n",
      "           e       1.00      0.08      0.15       522\n",
      "           i       0.68      1.00      0.81      1041\n",
      "\n",
      "    accuracy                           0.69      1563\n",
      "   macro avg       0.84      0.54      0.48      1563\n",
      "weighted avg       0.79      0.69      0.59      1563\n",
      "\n"
     ]
    }
   ],
   "source": [
    "clf =RandomForestClassifier().fit(x_train,y1_train)\n",
    "predicted = clf.predict(x_test)\n",
    "print(classification_report(y1_test, predicted))"
   ]
  },
  {
   "cell_type": "markdown",
   "id": "968c1fd2",
   "metadata": {},
   "source": [
    "# Evaluate The Model Dimension1"
   ]
  },
  {
   "cell_type": "code",
   "execution_count": 24,
   "id": "104232f4",
   "metadata": {},
   "outputs": [
    {
     "name": "stdout",
     "output_type": "stream",
     "text": [
      "              precision    recall  f1-score   support\n",
      "\n",
      "           n       0.79      1.00      0.88      1212\n",
      "           s       1.00      0.07      0.13       351\n",
      "\n",
      "    accuracy                           0.79      1563\n",
      "   macro avg       0.89      0.53      0.50      1563\n",
      "weighted avg       0.84      0.79      0.71      1563\n",
      "\n"
     ]
    }
   ],
   "source": [
    "clf =RandomForestClassifier().fit(x_train,y2_train)\n",
    "predicted = clf.predict(x_test)\n",
    "print(classification_report(y2_test, predicted))"
   ]
  },
  {
   "cell_type": "markdown",
   "id": "fd120a61",
   "metadata": {},
   "source": [
    "# Evaluate The Model Dimension2"
   ]
  },
  {
   "cell_type": "code",
   "execution_count": 25,
   "id": "c2845df2",
   "metadata": {},
   "outputs": [
    {
     "name": "stdout",
     "output_type": "stream",
     "text": [
      "              precision    recall  f1-score   support\n",
      "\n",
      "           f       0.63      0.97      0.76       928\n",
      "           t       0.79      0.17      0.28       635\n",
      "\n",
      "    accuracy                           0.64      1563\n",
      "   macro avg       0.71      0.57      0.52      1563\n",
      "weighted avg       0.69      0.64      0.57      1563\n",
      "\n"
     ]
    }
   ],
   "source": [
    "clf =RandomForestClassifier().fit(x_train,y3_train)\n",
    "predicted = clf.predict(x_test)\n",
    "print(classification_report(y3_test, predicted))"
   ]
  },
  {
   "cell_type": "markdown",
   "id": "53f21992",
   "metadata": {},
   "source": [
    "# Evaluate The Model Dimension3"
   ]
  },
  {
   "cell_type": "code",
   "execution_count": 26,
   "id": "59b31cf1",
   "metadata": {},
   "outputs": [
    {
     "name": "stdout",
     "output_type": "stream",
     "text": [
      "              precision    recall  f1-score   support\n",
      "\n",
      "           j       0.70      0.32      0.44       691\n",
      "           p       0.62      0.89      0.73       872\n",
      "\n",
      "    accuracy                           0.64      1563\n",
      "   macro avg       0.66      0.61      0.59      1563\n",
      "weighted avg       0.66      0.64      0.60      1563\n",
      "\n"
     ]
    }
   ],
   "source": [
    "clf =RandomForestClassifier().fit(x_train,y4_train)\n",
    "predicted = clf.predict(x_test)\n",
    "print(classification_report(y4_test, predicted))"
   ]
  },
  {
   "cell_type": "markdown",
   "id": "6a63c5f0",
   "metadata": {},
   "source": [
    "# Evaluate The Model Dimension4"
   ]
  },
  {
   "cell_type": "markdown",
   "id": "3cf9ca87",
   "metadata": {},
   "source": [
    "# N-GRAM\n",
    "n-gram terdapat banyak macamnya ada bigram dan trigram. Pada tugas kali ini kami menggunakan bigram makanya pada n_gram_range = (2,2)"
   ]
  },
  {
   "cell_type": "code",
   "execution_count": 27,
   "id": "1774d968",
   "metadata": {},
   "outputs": [],
   "source": [
    "ngram_range = (2, 2)\n",
    "max_features = 1000\n",
    "vectorizer = CountVectorizer(ngram_range=ngram_range, max_features=max_features)\n",
    "df_ngram = vectorizer.fit_transform(x)"
   ]
  },
  {
   "cell_type": "code",
   "execution_count": 28,
   "id": "0c4d8ccf",
   "metadata": {},
   "outputs": [],
   "source": [
    "from sklearn.model_selection import train_test_split\n",
    "x_train,x_test,y1_train,y1_test=train_test_split(df_ngram,y1,test_size=0.2,random_state=42)\n",
    "x_train,x_test,y2_train,y2_test=train_test_split(df_ngram,y2,test_size=0.2,random_state=42)\n",
    "x_train,x_test,y3_train,y3_test=train_test_split(df_ngram,y3,test_size=0.2,random_state=42)\n",
    "x_train,x_test,y4_train,y4_test=train_test_split(df_ngram,y4,test_size=0.2,random_state=42)"
   ]
  },
  {
   "cell_type": "markdown",
   "id": "310b0339",
   "metadata": {},
   "source": [
    "# Splitting Dataset\n",
    "Pada proses ini data akan dibagi menjadi 2 yaitu :\n",
    "\n",
    "data train -> data untuk pembelajaran data test -> data untuk pengujian disini kami menggunakan test_size 0.2 dan random_state 42 yang berarti data akan dibagi menjadi 20% data test dan 80% data train serta diacak"
   ]
  },
  {
   "cell_type": "code",
   "execution_count": 29,
   "id": "ae2e4e94",
   "metadata": {},
   "outputs": [
    {
     "name": "stdout",
     "output_type": "stream",
     "text": [
      "              precision    recall  f1-score   support\n",
      "\n",
      "           e       0.71      0.07      0.14       522\n",
      "           i       0.68      0.98      0.80      1041\n",
      "\n",
      "    accuracy                           0.68      1563\n",
      "   macro avg       0.69      0.53      0.47      1563\n",
      "weighted avg       0.69      0.68      0.58      1563\n",
      "\n"
     ]
    }
   ],
   "source": [
    "clf =RandomForestClassifier().fit(x_train,y1_train)\n",
    "predicted = clf.predict(x_test)\n",
    "print(classification_report(y1_test, predicted))"
   ]
  },
  {
   "cell_type": "markdown",
   "id": "c8fc6c0c",
   "metadata": {},
   "source": [
    "# Evaluate The Model Dimension1"
   ]
  },
  {
   "cell_type": "code",
   "execution_count": 30,
   "id": "9975c11e",
   "metadata": {},
   "outputs": [
    {
     "name": "stdout",
     "output_type": "stream",
     "text": [
      "              precision    recall  f1-score   support\n",
      "\n",
      "           n       0.79      1.00      0.88      1212\n",
      "           s       0.96      0.06      0.12       351\n",
      "\n",
      "    accuracy                           0.79      1563\n",
      "   macro avg       0.87      0.53      0.50      1563\n",
      "weighted avg       0.82      0.79      0.71      1563\n",
      "\n"
     ]
    }
   ],
   "source": [
    "clf =RandomForestClassifier().fit(x_train,y2_train)\n",
    "predicted = clf.predict(x_test)\n",
    "print(classification_report(y2_test, predicted))"
   ]
  },
  {
   "cell_type": "markdown",
   "id": "844c5af6",
   "metadata": {},
   "source": [
    "# Evaluate The Model Dimension2"
   ]
  },
  {
   "cell_type": "code",
   "execution_count": 31,
   "id": "854aa9a7",
   "metadata": {},
   "outputs": [
    {
     "name": "stdout",
     "output_type": "stream",
     "text": [
      "              precision    recall  f1-score   support\n",
      "\n",
      "           f       0.63      0.90      0.74       928\n",
      "           t       0.61      0.23      0.34       635\n",
      "\n",
      "    accuracy                           0.63      1563\n",
      "   macro avg       0.62      0.57      0.54      1563\n",
      "weighted avg       0.62      0.63      0.58      1563\n",
      "\n"
     ]
    }
   ],
   "source": [
    "clf =RandomForestClassifier().fit(x_train,y3_train)\n",
    "predicted = clf.predict(x_test)\n",
    "print(classification_report(y3_test, predicted))"
   ]
  },
  {
   "cell_type": "markdown",
   "id": "d9b62555",
   "metadata": {},
   "source": [
    "# Evaluate The Model Dimension3"
   ]
  },
  {
   "cell_type": "code",
   "execution_count": 32,
   "id": "3e2439f7",
   "metadata": {},
   "outputs": [
    {
     "name": "stdout",
     "output_type": "stream",
     "text": [
      "              precision    recall  f1-score   support\n",
      "\n",
      "           j       0.61      0.37      0.46       691\n",
      "           p       0.62      0.81      0.70       872\n",
      "\n",
      "    accuracy                           0.62      1563\n",
      "   macro avg       0.62      0.59      0.58      1563\n",
      "weighted avg       0.62      0.62      0.60      1563\n",
      "\n"
     ]
    }
   ],
   "source": [
    "clf =RandomForestClassifier().fit(x_train,y4_train)\n",
    "predicted = clf.predict(x_test)\n",
    "print(classification_report(y4_test, predicted))"
   ]
  },
  {
   "cell_type": "markdown",
   "id": "c5aefa1b",
   "metadata": {},
   "source": [
    "# Evaluate The Model Dimension4"
   ]
  },
  {
   "cell_type": "markdown",
   "id": "93629ffd",
   "metadata": {},
   "source": [
    "# WORD EMBEDDING(WORD2VEC)"
   ]
  },
  {
   "cell_type": "code",
   "execution_count": 33,
   "id": "8fb15f42",
   "metadata": {},
   "outputs": [],
   "source": [
    "x_train,x_test,y1_train,y1_test=train_test_split(x,y1,test_size=0.2,random_state=42)\n",
    "x_train,x_test,y2_train,y2_test=train_test_split(x,y2,test_size=0.2,random_state=42)\n",
    "x_train,x_test,y3_train,y3_test=train_test_split(x,y3,test_size=0.2,random_state=42)\n",
    "x_train,x_test,y4_train,y4_test=train_test_split(x,y4,test_size=0.2,random_state=42)"
   ]
  },
  {
   "cell_type": "markdown",
   "id": "d6c94ea1",
   "metadata": {},
   "source": [
    "# Splitting Dataset\n",
    "Pada proses ini data akan dibagi menjadi 2 yaitu :\n",
    "\n",
    "data train -> data untuk pembelajaran data test -> data untuk pengujian disini kami menggunakan test_size 0.2 dan random_state 42 yang berarti data akan dibagi menjadi 20% data test dan 80% data train serta diacak"
   ]
  },
  {
   "cell_type": "code",
   "execution_count": 34,
   "id": "d6bb1a24",
   "metadata": {},
   "outputs": [],
   "source": [
    "from gensim.models import Word2Vec\n",
    "\n",
    "sentences = [sentence.split() for sentence in x_train]\n",
    "w2v_model = Word2Vec(sentences, vector_size=100, window=5, min_count=5, workers=4)"
   ]
  },
  {
   "cell_type": "code",
   "execution_count": 35,
   "id": "c1839b0f",
   "metadata": {},
   "outputs": [],
   "source": [
    "import numpy as np\n",
    "\n",
    "def vectorize(sentence):\n",
    "    words = sentence.split()\n",
    "    words_vecs = [w2v_model.wv[word] for word in words if word in w2v_model.wv]\n",
    "    if len(words_vecs) == 0:\n",
    "        return np.zeros(100)\n",
    "    words_vecs = np.array(words_vecs)\n",
    "    return words_vecs.mean(axis=0)\n",
    "\n",
    "x_train = np.array([vectorize(sentence) for sentence in x_train])\n",
    "x_test = np.array([vectorize(sentence) for sentence in x_test])"
   ]
  },
  {
   "cell_type": "code",
   "execution_count": 36,
   "id": "9a300aa6",
   "metadata": {},
   "outputs": [
    {
     "name": "stdout",
     "output_type": "stream",
     "text": [
      "              precision    recall  f1-score   support\n",
      "\n",
      "           e       0.61      0.11      0.18       522\n",
      "           i       0.68      0.97      0.80      1041\n",
      "\n",
      "    accuracy                           0.68      1563\n",
      "   macro avg       0.65      0.54      0.49      1563\n",
      "weighted avg       0.66      0.68      0.59      1563\n",
      "\n"
     ]
    }
   ],
   "source": [
    "clf =RandomForestClassifier().fit(x_train,y1_train)\n",
    "predicted = clf.predict(x_test)\n",
    "print(classification_report(y1_test, predicted))"
   ]
  },
  {
   "cell_type": "markdown",
   "id": "3ec694f8",
   "metadata": {},
   "source": [
    "# Evaluate The Model Dimension1"
   ]
  },
  {
   "cell_type": "code",
   "execution_count": 37,
   "id": "eb3fbe1e",
   "metadata": {},
   "outputs": [
    {
     "name": "stdout",
     "output_type": "stream",
     "text": [
      "              precision    recall  f1-score   support\n",
      "\n",
      "           n       0.79      0.99      0.88      1212\n",
      "           s       0.66      0.07      0.12       351\n",
      "\n",
      "    accuracy                           0.78      1563\n",
      "   macro avg       0.72      0.53      0.50      1563\n",
      "weighted avg       0.76      0.78      0.71      1563\n",
      "\n"
     ]
    }
   ],
   "source": [
    "clf =RandomForestClassifier().fit(x_train,y2_train)\n",
    "predicted = clf.predict(x_test)\n",
    "print(classification_report(y2_test, predicted))"
   ]
  },
  {
   "cell_type": "markdown",
   "id": "58dde958",
   "metadata": {},
   "source": [
    "# Evaluate The Model Dimension2"
   ]
  },
  {
   "cell_type": "code",
   "execution_count": 38,
   "id": "db41496c",
   "metadata": {},
   "outputs": [
    {
     "name": "stdout",
     "output_type": "stream",
     "text": [
      "              precision    recall  f1-score   support\n",
      "\n",
      "           f       0.64      0.83      0.72       928\n",
      "           t       0.56      0.31      0.40       635\n",
      "\n",
      "    accuracy                           0.62      1563\n",
      "   macro avg       0.60      0.57      0.56      1563\n",
      "weighted avg       0.61      0.62      0.59      1563\n",
      "\n"
     ]
    }
   ],
   "source": [
    "clf =RandomForestClassifier().fit(x_train,y3_train)\n",
    "predicted = clf.predict(x_test)\n",
    "print(classification_report(y3_test, predicted))"
   ]
  },
  {
   "cell_type": "markdown",
   "id": "17093f12",
   "metadata": {},
   "source": [
    "# Evaluate The Model Dimension3"
   ]
  },
  {
   "cell_type": "code",
   "execution_count": 39,
   "id": "317d2aa7",
   "metadata": {
    "scrolled": true
   },
   "outputs": [
    {
     "name": "stdout",
     "output_type": "stream",
     "text": [
      "              precision    recall  f1-score   support\n",
      "\n",
      "           j       0.64      0.52      0.57       691\n",
      "           p       0.67      0.77      0.71       872\n",
      "\n",
      "    accuracy                           0.66      1563\n",
      "   macro avg       0.65      0.64      0.64      1563\n",
      "weighted avg       0.65      0.66      0.65      1563\n",
      "\n"
     ]
    }
   ],
   "source": [
    "clf =RandomForestClassifier().fit(x_train,y4_train)\n",
    "predicted = clf.predict(x_test)\n",
    "print(classification_report(y4_test, predicted))"
   ]
  },
  {
   "cell_type": "markdown",
   "id": "f7d6ac3f",
   "metadata": {},
   "source": [
    "# Evaluate The Model Dimension4"
   ]
  }
 ],
 "metadata": {
  "kernelspec": {
   "display_name": "Python 3 (ipykernel)",
   "language": "python",
   "name": "python3"
  },
  "language_info": {
   "codemirror_mode": {
    "name": "ipython",
    "version": 3
   },
   "file_extension": ".py",
   "mimetype": "text/x-python",
   "name": "python",
   "nbconvert_exporter": "python",
   "pygments_lexer": "ipython3",
   "version": "3.11.4"
  }
 },
 "nbformat": 4,
 "nbformat_minor": 5
}
