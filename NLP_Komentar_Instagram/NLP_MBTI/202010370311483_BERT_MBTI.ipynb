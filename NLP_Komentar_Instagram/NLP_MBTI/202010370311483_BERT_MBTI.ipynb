{
 "cells": [
  {
   "cell_type": "markdown",
   "id": "4751656a",
   "metadata": {},
   "source": [
    "# 1. Marwa Alifa Azkiya (202010370311481)\n",
    "# 2. Fhara Elvina Pingky Nadya (202010370311483)"
   ]
  },
  {
   "cell_type": "code",
   "execution_count": 1,
   "id": "3e66d681",
   "metadata": {},
   "outputs": [],
   "source": [
    "import pandas as pd\n",
    "from sklearn.model_selection import train_test_split\n",
    "from sklearn.metrics import classification_report\n",
    "from transformers import BertTokenizer, BertModel\n",
    "from sklearn.ensemble import RandomForestClassifier\n",
    "import numpy as np\n",
    "import warnings\n",
    "warnings.filterwarnings('ignore')"
   ]
  },
  {
   "cell_type": "markdown",
   "id": "6eb0665f",
   "metadata": {},
   "source": [
    "# Import Libraries\n",
    "Ini adalah library yang dibutuhkan dalam pengolahan data."
   ]
  },
  {
   "cell_type": "code",
   "execution_count": 2,
   "id": "3caee1ae",
   "metadata": {},
   "outputs": [],
   "source": [
    "def downsample_dataset(dataset, label_column, desired_samples):\n",
    "    labels = dataset[label_column].unique()\n",
    "    sampled_data = pd.DataFrame(columns=dataset.columns)\n",
    "\n",
    "    for label in labels:\n",
    "        label_data = dataset[dataset[label_column] == label]\n",
    "        sampled_data = pd.concat([sampled_data, label_data.sample(n=desired_samples, random_state=42, replace = True)])\n",
    "    \n",
    "    return sampled_data"
   ]
  },
  {
   "cell_type": "markdown",
   "id": "f1e2c9bc",
   "metadata": {},
   "source": [
    "# Make function to downsample\n",
    "Membuat fungsi untuk menggurangi dataset dengan downsampling dikarenakan jika data terlalu banyak tidak bisa diproses"
   ]
  },
  {
   "cell_type": "code",
   "execution_count": 3,
   "id": "108124a4",
   "metadata": {},
   "outputs": [
    {
     "data": {
      "text/html": [
       "<div>\n",
       "<style scoped>\n",
       "    .dataframe tbody tr th:only-of-type {\n",
       "        vertical-align: middle;\n",
       "    }\n",
       "\n",
       "    .dataframe tbody tr th {\n",
       "        vertical-align: top;\n",
       "    }\n",
       "\n",
       "    .dataframe thead th {\n",
       "        text-align: right;\n",
       "    }\n",
       "</style>\n",
       "<table border=\"1\" class=\"dataframe\">\n",
       "  <thead>\n",
       "    <tr style=\"text-align: right;\">\n",
       "      <th></th>\n",
       "      <th>Unnamed: 0</th>\n",
       "      <th>text</th>\n",
       "      <th>label</th>\n",
       "      <th>dimension1</th>\n",
       "      <th>dimension2</th>\n",
       "      <th>dimension3</th>\n",
       "      <th>dimension4</th>\n",
       "    </tr>\n",
       "  </thead>\n",
       "  <tbody>\n",
       "    <tr>\n",
       "      <th>0</th>\n",
       "      <td>0</td>\n",
       "      <td>@Pericles216 @HierBeforeTheAC @Sachinettiyil T...</td>\n",
       "      <td>intj</td>\n",
       "      <td>i</td>\n",
       "      <td>n</td>\n",
       "      <td>t</td>\n",
       "      <td>j</td>\n",
       "    </tr>\n",
       "    <tr>\n",
       "      <th>1</th>\n",
       "      <td>1</td>\n",
       "      <td>@Hispanthicckk Being you makes you look cute||...</td>\n",
       "      <td>intj</td>\n",
       "      <td>i</td>\n",
       "      <td>n</td>\n",
       "      <td>t</td>\n",
       "      <td>j</td>\n",
       "    </tr>\n",
       "    <tr>\n",
       "      <th>2</th>\n",
       "      <td>2</td>\n",
       "      <td>@Alshymi Les balles sont réelles et sont tirée...</td>\n",
       "      <td>intj</td>\n",
       "      <td>i</td>\n",
       "      <td>n</td>\n",
       "      <td>t</td>\n",
       "      <td>j</td>\n",
       "    </tr>\n",
       "    <tr>\n",
       "      <th>3</th>\n",
       "      <td>3</td>\n",
       "      <td>I'm like entp but idiotic|||Hey boy, do you wa...</td>\n",
       "      <td>intj</td>\n",
       "      <td>i</td>\n",
       "      <td>n</td>\n",
       "      <td>t</td>\n",
       "      <td>j</td>\n",
       "    </tr>\n",
       "    <tr>\n",
       "      <th>4</th>\n",
       "      <td>4</td>\n",
       "      <td>@kaeshurr1 Give it to @ZargarShanif ... He has...</td>\n",
       "      <td>intj</td>\n",
       "      <td>i</td>\n",
       "      <td>n</td>\n",
       "      <td>t</td>\n",
       "      <td>j</td>\n",
       "    </tr>\n",
       "    <tr>\n",
       "      <th>...</th>\n",
       "      <td>...</td>\n",
       "      <td>...</td>\n",
       "      <td>...</td>\n",
       "      <td>...</td>\n",
       "      <td>...</td>\n",
       "      <td>...</td>\n",
       "      <td>...</td>\n",
       "    </tr>\n",
       "    <tr>\n",
       "      <th>7806</th>\n",
       "      <td>7806</td>\n",
       "      <td>@sobsjjun God,,pls take care 😕|||@sobsjjun Hir...</td>\n",
       "      <td>intp</td>\n",
       "      <td>i</td>\n",
       "      <td>n</td>\n",
       "      <td>t</td>\n",
       "      <td>p</td>\n",
       "    </tr>\n",
       "    <tr>\n",
       "      <th>7807</th>\n",
       "      <td>7807</td>\n",
       "      <td>@Ignis_02 wow last time i got intp https://t.c...</td>\n",
       "      <td>intp</td>\n",
       "      <td>i</td>\n",
       "      <td>n</td>\n",
       "      <td>t</td>\n",
       "      <td>p</td>\n",
       "    </tr>\n",
       "    <tr>\n",
       "      <th>7808</th>\n",
       "      <td>7808</td>\n",
       "      <td>@akupilled A 100%|||@akupilled That SOMEONE wi...</td>\n",
       "      <td>entp</td>\n",
       "      <td>e</td>\n",
       "      <td>n</td>\n",
       "      <td>t</td>\n",
       "      <td>p</td>\n",
       "    </tr>\n",
       "    <tr>\n",
       "      <th>7809</th>\n",
       "      <td>7809</td>\n",
       "      <td>If you’re #INTJ this one is for you | What is ...</td>\n",
       "      <td>infj</td>\n",
       "      <td>i</td>\n",
       "      <td>n</td>\n",
       "      <td>f</td>\n",
       "      <td>j</td>\n",
       "    </tr>\n",
       "    <tr>\n",
       "      <th>7810</th>\n",
       "      <td>7810</td>\n",
       "      <td>@harry__lambert @gucci hey can you dm me a pic...</td>\n",
       "      <td>istp</td>\n",
       "      <td>i</td>\n",
       "      <td>s</td>\n",
       "      <td>t</td>\n",
       "      <td>p</td>\n",
       "    </tr>\n",
       "  </tbody>\n",
       "</table>\n",
       "<p>7811 rows × 7 columns</p>\n",
       "</div>"
      ],
      "text/plain": [
       "      Unnamed: 0                                               text label  \\\n",
       "0              0  @Pericles216 @HierBeforeTheAC @Sachinettiyil T...  intj   \n",
       "1              1  @Hispanthicckk Being you makes you look cute||...  intj   \n",
       "2              2  @Alshymi Les balles sont réelles et sont tirée...  intj   \n",
       "3              3  I'm like entp but idiotic|||Hey boy, do you wa...  intj   \n",
       "4              4  @kaeshurr1 Give it to @ZargarShanif ... He has...  intj   \n",
       "...          ...                                                ...   ...   \n",
       "7806        7806  @sobsjjun God,,pls take care 😕|||@sobsjjun Hir...  intp   \n",
       "7807        7807  @Ignis_02 wow last time i got intp https://t.c...  intp   \n",
       "7808        7808  @akupilled A 100%|||@akupilled That SOMEONE wi...  entp   \n",
       "7809        7809  If you’re #INTJ this one is for you | What is ...  infj   \n",
       "7810        7810  @harry__lambert @gucci hey can you dm me a pic...  istp   \n",
       "\n",
       "     dimension1 dimension2 dimension3 dimension4  \n",
       "0             i          n          t          j  \n",
       "1             i          n          t          j  \n",
       "2             i          n          t          j  \n",
       "3             i          n          t          j  \n",
       "4             i          n          t          j  \n",
       "...         ...        ...        ...        ...  \n",
       "7806          i          n          t          p  \n",
       "7807          i          n          t          p  \n",
       "7808          e          n          t          p  \n",
       "7809          i          n          f          j  \n",
       "7810          i          s          t          p  \n",
       "\n",
       "[7811 rows x 7 columns]"
      ]
     },
     "execution_count": 3,
     "metadata": {},
     "output_type": "execute_result"
    }
   ],
   "source": [
    "dataset = pd.read_csv('twitter_MBTI.csv')\n",
    "\n",
    "split = dataset['label'].apply(lambda x: pd.Series(list(x)))\n",
    "split.columns= [f'dimension{i+1}' for i in range(split.shape[1])]\n",
    "\n",
    "dataset = pd.concat([dataset, split], axis=1)\n",
    "\n",
    "dataset"
   ]
  },
  {
   "cell_type": "markdown",
   "id": "03d8a95d",
   "metadata": {},
   "source": [
    "## Load and Split Label in Dataset\n",
    "membagi kolom label yang berisi MBTI secara keseluruhan dibagi menjadi 4 dimensi sesuai dengan kategorinya, hal ini dilakukan untuk mencegah kebingungan machine learning saat melakukan klasifikasi"
   ]
  },
  {
   "cell_type": "code",
   "execution_count": 4,
   "id": "4918a578",
   "metadata": {},
   "outputs": [],
   "source": [
    "downsampled_dataset = downsample_dataset(dataset, 'label', 10)"
   ]
  },
  {
   "cell_type": "markdown",
   "id": "52875513",
   "metadata": {},
   "source": [
    "## Use function downsample\n",
    "Disini menggunakan 10 data set pada setiap masing masing label. Pada data terdapat 16 jenis label yang berarti data setelah didownsample adalah 160"
   ]
  },
  {
   "cell_type": "code",
   "execution_count": 5,
   "id": "5a6f97a9",
   "metadata": {},
   "outputs": [],
   "source": [
    "# Memisahkan data menjadi training set dan test set\n",
    "train_data, test_data, train_labels, test_labels = train_test_split(downsampled_dataset['text'], downsampled_dataset['dimension1'], test_size=0.2, random_state=42)\n",
    "train_data2, test_data2, train_labels2, test_labels2 = train_test_split(downsampled_dataset['text'], downsampled_dataset['dimension2'], test_size=0.2, random_state=42)\n",
    "train_data3, test_data3, train_labels3, test_labels3 = train_test_split(downsampled_dataset['text'], downsampled_dataset['dimension3'], test_size=0.2, random_state=42)\n",
    "train_data4, test_data4, train_labels4, test_labels4 = train_test_split(downsampled_dataset['text'], downsampled_dataset['dimension4'], test_size=0.2, random_state=42)"
   ]
  },
  {
   "cell_type": "markdown",
   "id": "88ea9f79",
   "metadata": {},
   "source": [
    "## Splitting Dataset\n",
    "Pada proses ini data akan dibagi menjadi 2 yaitu :\n",
    "\n",
    "data train -> data untuk pembelajaran data test -> data untuk pengujian disini kami menggunakan test_size 0.2 dan random_state 42 yang berarti data akan dibagi menjadi 20% data test dan 80% data train serta diacak"
   ]
  },
  {
   "cell_type": "code",
   "execution_count": 6,
   "id": "83908cf2",
   "metadata": {},
   "outputs": [
    {
     "data": {
      "application/vnd.jupyter.widget-view+json": {
       "model_id": "9688e4b313314d309e87251e7807f5ab",
       "version_major": 2,
       "version_minor": 0
      },
      "text/plain": [
       "Downloading (…)solve/main/vocab.txt:   0%|          | 0.00/232k [00:00<?, ?B/s]"
      ]
     },
     "metadata": {},
     "output_type": "display_data"
    },
    {
     "data": {
      "application/vnd.jupyter.widget-view+json": {
       "model_id": "eb58b56ff7e546018f338998180a304c",
       "version_major": 2,
       "version_minor": 0
      },
      "text/plain": [
       "Downloading (…)okenizer_config.json:   0%|          | 0.00/28.0 [00:00<?, ?B/s]"
      ]
     },
     "metadata": {},
     "output_type": "display_data"
    },
    {
     "data": {
      "application/vnd.jupyter.widget-view+json": {
       "model_id": "d8a15048269e430c915929c2623ff677",
       "version_major": 2,
       "version_minor": 0
      },
      "text/plain": [
       "Downloading (…)lve/main/config.json:   0%|          | 0.00/570 [00:00<?, ?B/s]"
      ]
     },
     "metadata": {},
     "output_type": "display_data"
    },
    {
     "data": {
      "application/vnd.jupyter.widget-view+json": {
       "model_id": "e85cb7c688744c2fae6f7f12d923bcd7",
       "version_major": 2,
       "version_minor": 0
      },
      "text/plain": [
       "Downloading model.safetensors:   0%|          | 0.00/440M [00:00<?, ?B/s]"
      ]
     },
     "metadata": {},
     "output_type": "display_data"
    },
    {
     "name": "stderr",
     "output_type": "stream",
     "text": [
      "Some weights of the model checkpoint at bert-base-uncased were not used when initializing BertModel: ['cls.predictions.bias', 'cls.predictions.transform.dense.weight', 'cls.seq_relationship.weight', 'cls.predictions.transform.LayerNorm.bias', 'cls.predictions.transform.LayerNorm.weight', 'cls.predictions.transform.dense.bias', 'cls.seq_relationship.bias']\n",
      "- This IS expected if you are initializing BertModel from the checkpoint of a model trained on another task or with another architecture (e.g. initializing a BertForSequenceClassification model from a BertForPreTraining model).\n",
      "- This IS NOT expected if you are initializing BertModel from the checkpoint of a model that you expect to be exactly identical (initializing a BertForSequenceClassification model from a BertForSequenceClassification model).\n"
     ]
    }
   ],
   "source": [
    "tokenizer = BertTokenizer.from_pretrained('bert-base-uncased')\n",
    "model = BertModel.from_pretrained('bert-base-uncased')"
   ]
  },
  {
   "cell_type": "markdown",
   "id": "e24b4dab",
   "metadata": {},
   "source": [
    "## Initialize the tokenizer and BERT model for dimension1"
   ]
  },
  {
   "cell_type": "code",
   "execution_count": 7,
   "id": "17487609",
   "metadata": {},
   "outputs": [],
   "source": [
    "train_encodings = tokenizer(list(train_data), truncation=True, padding=True)\n",
    "test_encodings = tokenizer(list(test_data), truncation=True, padding=True)"
   ]
  },
  {
   "cell_type": "markdown",
   "id": "9a71acdd",
   "metadata": {},
   "source": [
    "## Text tokenization"
   ]
  },
  {
   "cell_type": "code",
   "execution_count": 8,
   "id": "53481a9a",
   "metadata": {},
   "outputs": [],
   "source": [
    "import torch\n",
    "# Mendapatkan representasi vektor teks menggunakan BERT\n",
    "train_input_ids = torch.tensor(train_encodings['input_ids'])\n",
    "train_attention_mask = torch.tensor(train_encodings['attention_mask'])\n",
    "\n",
    "test_input_ids = torch.tensor(test_encodings['input_ids'])\n",
    "test_attention_mask = torch.tensor(test_encodings['attention_mask'])\n",
    "\n",
    "with torch.no_grad():\n",
    "    train_outputs = model(train_input_ids, train_attention_mask)\n",
    "    train_features = train_outputs[0][:, 0, :].numpy()  # Menggunakan output dari token [CLS] sebagai fitur\n",
    "    \n",
    "    test_outputs = model(test_input_ids, test_attention_mask)\n",
    "    test_features = test_outputs[0][:, 0, :].numpy()"
   ]
  },
  {
   "cell_type": "code",
   "execution_count": 9,
   "id": "cf092835",
   "metadata": {},
   "outputs": [],
   "source": [
    "# Menginisialisasi dan melatih model Random Forest\n",
    "rf_model = RandomForestClassifier(n_estimators=100, random_state=42)\n",
    "rf_model.fit(train_features, train_labels)\n",
    "\n",
    "# Memprediksi label pada data uji\n",
    "predictions = rf_model.predict(test_features)"
   ]
  },
  {
   "cell_type": "markdown",
   "id": "5e151657",
   "metadata": {},
   "source": [
    "# E/I"
   ]
  },
  {
   "cell_type": "code",
   "execution_count": 10,
   "id": "9df2d216",
   "metadata": {},
   "outputs": [
    {
     "name": "stdout",
     "output_type": "stream",
     "text": [
      "              precision    recall  f1-score   support\n",
      "\n",
      "           e       0.58      0.69      0.63        16\n",
      "           i       0.62      0.50      0.55        16\n",
      "\n",
      "    accuracy                           0.59        32\n",
      "   macro avg       0.60      0.59      0.59        32\n",
      "weighted avg       0.60      0.59      0.59        32\n",
      "\n"
     ]
    }
   ],
   "source": [
    "# Menampilkan laporan klasifikasi\n",
    "print(classification_report(test_labels, predictions))"
   ]
  },
  {
   "cell_type": "code",
   "execution_count": 11,
   "id": "dc240108",
   "metadata": {},
   "outputs": [],
   "source": [
    "train_encodings = tokenizer(list(train_data2), truncation=True, padding=True)\n",
    "test_encodings = tokenizer(list(test_data2), truncation=True, padding=True)"
   ]
  },
  {
   "cell_type": "markdown",
   "id": "bfb21424",
   "metadata": {},
   "source": [
    "## Initialize the tokenizer and BERT model for dimension2"
   ]
  },
  {
   "cell_type": "code",
   "execution_count": 12,
   "id": "0bda2861",
   "metadata": {},
   "outputs": [],
   "source": [
    "import torch\n",
    "# Mendapatkan representasi vektor teks menggunakan BERT\n",
    "train_input_ids = torch.tensor(train_encodings['input_ids'])\n",
    "train_attention_mask = torch.tensor(train_encodings['attention_mask'])\n",
    "\n",
    "test_input_ids = torch.tensor(test_encodings['input_ids'])\n",
    "test_attention_mask = torch.tensor(test_encodings['attention_mask'])\n",
    "\n",
    "with torch.no_grad():\n",
    "    train_outputs = model(train_input_ids, train_attention_mask)\n",
    "    train_features = train_outputs[0][:, 0, :].numpy()  # Menggunakan output dari token [CLS] sebagai fitur\n",
    "    \n",
    "    test_outputs = model(test_input_ids, test_attention_mask)\n",
    "    test_features = test_outputs[0][:, 0, :].numpy()"
   ]
  },
  {
   "cell_type": "code",
   "execution_count": 13,
   "id": "95ac8b64",
   "metadata": {},
   "outputs": [],
   "source": [
    "rf_model = RandomForestClassifier(n_estimators=100, random_state=42)\n",
    "rf_model.fit(train_features, train_labels2)\n",
    "\n",
    "# Memprediksi label pada data uji\n",
    "predictions = rf_model.predict(test_features)"
   ]
  },
  {
   "cell_type": "code",
   "execution_count": 14,
   "id": "89b6d51d",
   "metadata": {},
   "outputs": [
    {
     "name": "stdout",
     "output_type": "stream",
     "text": [
      "              precision    recall  f1-score   support\n",
      "\n",
      "           n       0.55      0.38      0.44        16\n",
      "           s       0.52      0.69      0.59        16\n",
      "\n",
      "    accuracy                           0.53        32\n",
      "   macro avg       0.53      0.53      0.52        32\n",
      "weighted avg       0.53      0.53      0.52        32\n",
      "\n"
     ]
    }
   ],
   "source": [
    "# Menampilkan laporan klasifikasi\n",
    "print(classification_report(test_labels2, predictions))"
   ]
  },
  {
   "cell_type": "code",
   "execution_count": 15,
   "id": "d3a3f6fa",
   "metadata": {},
   "outputs": [],
   "source": [
    "train_encodings = tokenizer(list(train_data3), truncation=True, padding=True)\n",
    "test_encodings = tokenizer(list(test_data3), truncation=True, padding=True)"
   ]
  },
  {
   "cell_type": "code",
   "execution_count": 16,
   "id": "ca313418",
   "metadata": {},
   "outputs": [],
   "source": [
    "train_input_ids = torch.tensor(train_encodings['input_ids'])\n",
    "train_attention_mask = torch.tensor(train_encodings['attention_mask'])\n",
    "\n",
    "test_input_ids = torch.tensor(test_encodings['input_ids'])\n",
    "test_attention_mask = torch.tensor(test_encodings['attention_mask'])\n",
    "\n",
    "with torch.no_grad():\n",
    "    train_outputs = model(train_input_ids, train_attention_mask)\n",
    "    train_features = train_outputs[0][:, 0, :].numpy()  # Menggunakan output dari token [CLS] sebagai fitur\n",
    "    \n",
    "    test_outputs = model(test_input_ids, test_attention_mask)\n",
    "    test_features = test_outputs[0][:, 0, :].numpy()"
   ]
  },
  {
   "cell_type": "code",
   "execution_count": 17,
   "id": "69224e63",
   "metadata": {},
   "outputs": [],
   "source": [
    "rf_model = RandomForestClassifier(n_estimators=100, random_state=42)\n",
    "rf_model.fit(train_features, train_labels3)\n",
    "\n",
    "# Memprediksi label pada data uji\n",
    "predictions = rf_model.predict(test_features)"
   ]
  },
  {
   "cell_type": "code",
   "execution_count": 18,
   "id": "fd53b662",
   "metadata": {},
   "outputs": [
    {
     "name": "stdout",
     "output_type": "stream",
     "text": [
      "              precision    recall  f1-score   support\n",
      "\n",
      "           f       0.43      1.00      0.60        12\n",
      "           t       1.00      0.20      0.33        20\n",
      "\n",
      "    accuracy                           0.50        32\n",
      "   macro avg       0.71      0.60      0.47        32\n",
      "weighted avg       0.79      0.50      0.43        32\n",
      "\n"
     ]
    }
   ],
   "source": [
    "# Menampilkan laporan klasifikasi\n",
    "print(classification_report(test_labels3, predictions))"
   ]
  },
  {
   "cell_type": "code",
   "execution_count": 19,
   "id": "e8ae457a",
   "metadata": {},
   "outputs": [],
   "source": [
    "train_encodings = tokenizer(list(train_data4), truncation=True, padding=True)\n",
    "test_encodings = tokenizer(list(test_data4), truncation=True, padding=True)"
   ]
  },
  {
   "cell_type": "code",
   "execution_count": 20,
   "id": "b45c24e4",
   "metadata": {},
   "outputs": [],
   "source": [
    "train_input_ids = torch.tensor(train_encodings['input_ids'])\n",
    "train_attention_mask = torch.tensor(train_encodings['attention_mask'])\n",
    "\n",
    "test_input_ids = torch.tensor(test_encodings['input_ids'])\n",
    "test_attention_mask = torch.tensor(test_encodings['attention_mask'])\n",
    "\n",
    "with torch.no_grad():\n",
    "    train_outputs = model(train_input_ids, train_attention_mask)\n",
    "    train_features = train_outputs[0][:, 0, :].numpy()  # Menggunakan output dari token [CLS] sebagai fitur\n",
    "    \n",
    "    test_outputs = model(test_input_ids, test_attention_mask)\n",
    "    test_features = test_outputs[0][:, 0, :].numpy()"
   ]
  },
  {
   "cell_type": "code",
   "execution_count": 21,
   "id": "5b115ed2",
   "metadata": {},
   "outputs": [],
   "source": [
    "rf_model = RandomForestClassifier(n_estimators=100, random_state=42)\n",
    "rf_model.fit(train_features, train_labels4)\n",
    "\n",
    "# Memprediksi label pada data uji\n",
    "predictions = rf_model.predict(test_features)"
   ]
  },
  {
   "cell_type": "code",
   "execution_count": 22,
   "id": "acc3e713",
   "metadata": {},
   "outputs": [
    {
     "name": "stdout",
     "output_type": "stream",
     "text": [
      "              precision    recall  f1-score   support\n",
      "\n",
      "           j       0.47      0.69      0.56        13\n",
      "           p       0.69      0.47      0.56        19\n",
      "\n",
      "    accuracy                           0.56        32\n",
      "   macro avg       0.58      0.58      0.56        32\n",
      "weighted avg       0.60      0.56      0.56        32\n",
      "\n"
     ]
    }
   ],
   "source": [
    "# Menampilkan laporan klasifikasi\n",
    "print(classification_report(test_labels4, predictions))"
   ]
  },
  {
   "cell_type": "code",
   "execution_count": null,
   "id": "3bfacbf5",
   "metadata": {},
   "outputs": [],
   "source": []
  }
 ],
 "metadata": {
  "kernelspec": {
   "display_name": "Python 3 (ipykernel)",
   "language": "python",
   "name": "python3"
  },
  "language_info": {
   "codemirror_mode": {
    "name": "ipython",
    "version": 3
   },
   "file_extension": ".py",
   "mimetype": "text/x-python",
   "name": "python",
   "nbconvert_exporter": "python",
   "pygments_lexer": "ipython3",
   "version": "3.11.4"
  }
 },
 "nbformat": 4,
 "nbformat_minor": 5
}
